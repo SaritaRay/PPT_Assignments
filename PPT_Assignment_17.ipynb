{
 "cells": [
  {
   "cell_type": "code",
   "execution_count": 4,
   "id": "3114cee9",
   "metadata": {},
   "outputs": [
    {
     "name": "stdout",
     "output_type": "stream",
     "text": [
      "Output of example_1 is:  0\n",
      " \n",
      "Output of example_2 is:  2\n",
      " \n",
      "Output of example_3 is:  -1\n"
     ]
    }
   ],
   "source": [
    "# SOLUTION: 1\n",
    "# The time complexity of this algorithm is O(n), where n is the length of the input string. This is because we traverse the string twice, once to build the dictionary and once to find the first non-repeating character. The space complexity of this algorithm is O(k), where k is the number of unique characters in the input string. This is because we store each unique character in the dictionary.\n",
    "\n",
    "# CODE:\n",
    "\n",
    "def firstUniqChar(s: str) -> int:\n",
    "    d = {}\n",
    "    for c in s:\n",
    "        if c not in d:\n",
    "            d[c] = 1\n",
    "        else:\n",
    "            d[c] += 1\n",
    "    for i in range(len(s)):\n",
    "        if d[s[i]] == 1:\n",
    "            return i\n",
    "    return -1\n",
    "\n",
    "# example usage:\n",
    "# Example 1:\n",
    "print(\"Output of example_1 is: \", firstUniqChar(\"leetcode\"))\n",
    "\n",
    "print(\" \")\n",
    "\n",
    "# Example 2:\n",
    "print(\"Output of example_2 is: \", firstUniqChar(\"loveleetcode\"))\n",
    "\n",
    "print(\" \")\n",
    "\n",
    "# Example 3:\n",
    "print(\"Output of example_3 is: \", firstUniqChar(\"aabb\"))\n"
   ]
  },
  {
   "cell_type": "code",
   "execution_count": 40,
   "id": "2f332658",
   "metadata": {},
   "outputs": [
    {
     "name": "stdout",
     "output_type": "stream",
     "text": [
      "Output of example_1 is:  3\n",
      " \n",
      "Output of example_2 is:  10\n",
      " \n",
      "Output of example_3 is:  -2\n"
     ]
    }
   ],
   "source": [
    "# SOLUTION: 2\n",
    "# The time complexity of this (Kadane’s) algorithm is O(n), where n is the size of the array. The space complexity is O(1) because we are only using two variables and no other extra space or array is created.\n",
    "\n",
    "# CODE:\n",
    "\n",
    "class Solution:\n",
    "    def maxSubarraySumCircular(self, nums: list[int]) -> int:\n",
    "        max_sum = float('-inf')\n",
    "        min_sum = float('inf')\n",
    "        cur_max = 0\n",
    "        cur_min = 0\n",
    "        total_sum = 0\n",
    "\n",
    "        for num in nums:\n",
    "            cur_max = max(cur_max + num, num)\n",
    "            max_sum = max(max_sum, cur_max)\n",
    "\n",
    "            cur_min = min(cur_min + num, num)\n",
    "            min_sum = min(min_sum, cur_min)\n",
    "\n",
    "            total_sum += num\n",
    "\n",
    "        if max_sum > 0:\n",
    "            return max(max_sum, total_sum - min_sum)\n",
    "        else:\n",
    "            return max_sum\n",
    "\n",
    "# example usage:\n",
    "# example 1:        \n",
    "nums = [1,-2,3,-2]\n",
    "solution = Solution()\n",
    "print(\"Output of example_1 is: \", solution.maxSubarraySumCircular(nums))\n",
    "\n",
    "print(\" \")\n",
    "\n",
    "# example 2:\n",
    "nums = [5,-3,5]\n",
    "solution = Solution()\n",
    "print(\"Output of example_2 is: \", solution.maxSubarraySumCircular(nums))\n",
    "\n",
    "print(\" \")\n",
    "\n",
    "# example 3:\n",
    "nums = [-3,-2,-3]\n",
    "solution = Solution()\n",
    "print(\"Output of example_3 is: \", solution.maxSubarraySumCircular(nums))\n"
   ]
  },
  {
   "cell_type": "code",
   "execution_count": 25,
   "id": "2bac85f9",
   "metadata": {},
   "outputs": [
    {
     "name": "stdout",
     "output_type": "stream",
     "text": [
      "example_1:\n",
      "Students were unable to eat are:  0\n",
      " \n",
      "example_2:\n",
      "Students were unable to eat are:  3\n"
     ]
    }
   ],
   "source": [
    "# SOLUTION: 3\n",
    "\n",
    "# CODE:\n",
    "# The time complexity of this algorithm is O(n) because we are iterating over the students and sandwiches lists only once. The space complexity of this algorithm is O(1) because we are not using any additional data structures.\n",
    "# example 1:\n",
    "def count_students(students, sandwiches):\n",
    "    i = j = 0\n",
    "    while i < len(students) and j < len(sandwiches):\n",
    "        if students[i] == sandwiches[j]:\n",
    "            i += 1\n",
    "            j += 1\n",
    "        else:\n",
    "            i += 1\n",
    "    return len(students) - i\n",
    "\n",
    "print(\"example_1:\")\n",
    "students = [1,1,0,0]\n",
    "sandwiches = [0,1,0,1]\n",
    "print(\"Students were unable to eat are: \", count_students(students, sandwiches))\n",
    "\n",
    "print(\" \")\n",
    "\n",
    "#The time complexity of this algorithm is O(n^2) because in the worst case scenario, we may have to move each sandwich to the bottom of the stack n times. The space complexity of this algorithm is O(n) because we are using two lists of size n.\n",
    "# example 2:\n",
    "def count_students(students, sandwiches):\n",
    "    while sandwiches:\n",
    "        if students[0] == sandwiches[0]:\n",
    "            students.pop(0)\n",
    "            sandwiches.pop(0)\n",
    "        else:\n",
    "            sandwiches.append(sandwiches.pop(0))\n",
    "        if sandwiches.count(sandwiches[0]) == len(sandwiches):\n",
    "            return len(sandwiches)\n",
    "    return 0\n",
    "\n",
    "print(\"example_2:\")\n",
    "students = [1,1,1,0,0,1]\n",
    "sandwiches = [1,0,0,0,1,1]\n",
    "print(\"Students were unable to eat are: \", count_students(students, sandwiches))\n"
   ]
  },
  {
   "cell_type": "code",
   "execution_count": 48,
   "id": "e31c66e1",
   "metadata": {},
   "outputs": [
    {
     "name": "stdout",
     "output_type": "stream",
     "text": [
      "Output of the given example is: \n",
      "1\n",
      "2\n",
      "3\n",
      "3\n"
     ]
    }
   ],
   "source": [
    "# SOLUTION: 4\n",
    "# The time complexity of the ping method is O(n), where n is the number of requests made so far. The space complexity of the RecentCounter class is O(n), where n is the number of requests made so far.  \n",
    "\n",
    "# CODE:\n",
    "\n",
    "class RecentCounter:\n",
    "    def __init__(self):\n",
    "        self.requests = []\n",
    "\n",
    "    def ping(self, t: int) -> int:\n",
    "        self.requests.append(t)\n",
    "        while self.requests[0] < t - 3000:\n",
    "            self.requests.pop(0)\n",
    "        return len(self.requests)\n",
    "\n",
    "# example usage:\n",
    "print(\"Output of the given example is: \")\n",
    "rc = RecentCounter()\n",
    "print(rc.ping(1))\n",
    "print(rc.ping(100))\n",
    "print(rc.ping(3001))\n",
    "print(rc.ping(3002))\n"
   ]
  },
  {
   "cell_type": "code",
   "execution_count": 29,
   "id": "b6e14a71",
   "metadata": {},
   "outputs": [
    {
     "name": "stdout",
     "output_type": "stream",
     "text": [
      "Output of example_1 is:  3\n",
      " \n",
      "Output of example_2 is:  1\n"
     ]
    }
   ],
   "source": [
    "# SOLUTION: 5\n",
    "# The time complexity of this algorithm is O(n*k), where n is the number of friends and k is the number of friends to skip. This is because we are iterating over the list of friends n times and removing one friend at each iteration, which takes O(n) time. The space complexity of this algorithm is O(n), where n is the number of friends. This is because we are creating a list of size n to store the friends.\n",
    "\n",
    "# CODE:\n",
    "\n",
    "def josephus(n: int, k: int) -> int:\n",
    "    friends = [i for i in range(1, n + 1)]\n",
    "    index = 0\n",
    "    while len(friends) > 1:\n",
    "        index = (index + k - 1) % len(friends)\n",
    "        friends.pop(index)\n",
    "    return friends[0]\n",
    "\n",
    "# example usage:\n",
    "# example 1:\n",
    "n = 5\n",
    "k = 2\n",
    "print(\"Output of example_1 is: \", josephus(n, k))\n",
    "\n",
    "print(\" \")\n",
    "\n",
    "# example 2:\n",
    "n = 6\n",
    "k = 5\n",
    "print(\"Output of example_2 is: \", josephus(n, k))\n"
   ]
  },
  {
   "cell_type": "code",
   "execution_count": 57,
   "id": "b5e622d4",
   "metadata": {},
   "outputs": [
    {
     "name": "stdout",
     "output_type": "stream",
     "text": [
      "Output of example_1 is:  [2, 13, 3, 11, 5, 17, 7]\n",
      " \n",
      "Output of example_2 is:  [1, 1000]\n"
     ]
    }
   ],
   "source": [
    "# SOLUTION: 6\n",
    "# The time complexity of this algorithm is O(nlogn) where n is the length of the input array. The space complexity of this algorithm is O(n) where n is the length of the input array. \n",
    "\n",
    "# CODE:\n",
    "\n",
    "def deckRevealedIncreasing(deck):\n",
    "    deck.sort(reverse=True)\n",
    "    result = []\n",
    "    for card in deck:\n",
    "        if result:\n",
    "            result.insert(0, result.pop())\n",
    "        result.insert(0, card)\n",
    "    return result\n",
    "\n",
    "# example usage:\n",
    "# example 1:\n",
    "deck = [17,13,11,2,3,5,7]\n",
    "print(\"Output of example_1 is: \", deckRevealedIncreasing(deck))\n",
    "\n",
    "print(\" \")\n",
    "\n",
    "# example 2:\n",
    "deck = [1, 1000]\n",
    "print(\"Output of example_2 is: \", deckRevealedIncreasing(deck))\n"
   ]
  },
  {
   "cell_type": "code",
   "execution_count": 36,
   "id": "c2647c2a",
   "metadata": {},
   "outputs": [
    {
     "name": "stdout",
     "output_type": "stream",
     "text": [
      "1\n",
      "3\n",
      "4\n",
      "2\n",
      "-1\n"
     ]
    }
   ],
   "source": [
    "# SOLUTION: 7\n",
    "# The time complexity of the FrontMiddleBackQueue class is O(n) for the pushFront, pushMiddle, and pushBack methods because they all involve inserting an element into the list. The time complexity of the popFront, popMiddle, and popBack methods is also O(n) because they all involve removing an element from the list. The space complexity of the class is O(n) because it needs to store the integers in the queue.\n",
    "\n",
    "# CODE:\n",
    "\n",
    "class FrontMiddleBackQueue:\n",
    "    def __init__(self):\n",
    "        self.queue = []\n",
    "\n",
    "    def pushFront(self, val: int) -> None:\n",
    "        self.queue.insert(0, val)\n",
    "\n",
    "    def pushMiddle(self, val: int) -> None:\n",
    "        mid = len(self.queue) // 2\n",
    "        self.queue.insert(mid, val)\n",
    "\n",
    "    def pushBack(self, val: int) -> None:\n",
    "        self.queue.append(val)\n",
    "\n",
    "    def popFront(self) -> int:\n",
    "        if not self.queue:\n",
    "            return -1\n",
    "        return self.queue.pop(0)\n",
    "\n",
    "    def popMiddle(self) -> int:\n",
    "        if not self.queue:\n",
    "            return -1\n",
    "        mid = (len(self.queue) - 1) // 2\n",
    "        return self.queue.pop(mid)\n",
    "\n",
    "    def popBack(self) -> int:\n",
    "        if not self.queue:\n",
    "            return -1\n",
    "        return self.queue.pop()\n",
    "\n",
    "input = [\"FrontMiddleBackQueue\", \"pushFront\", \"pushBack\", \"pushMiddle\", \"pushMiddle\", \"popFront\", \"popMiddle\", \"popMiddle\", \"popBack\", \"popFront\"]\n",
    "args = [[], [1], [2], [3], [4], [], [], [], [], []]\n",
    "\n",
    "q = FrontMiddleBackQueue()\n",
    "for i in range(len(input)):\n",
    "    if input[i] == 'pushFront':\n",
    "        q.pushFront(args[i][0])\n",
    "    elif input[i] == 'pushMiddle':\n",
    "        q.pushMiddle(args[i][0])\n",
    "    elif input[i] == 'pushBack':\n",
    "        q.pushBack(args[i][0])\n",
    "    elif input[i] == 'popFront':\n",
    "        print(q.popFront())\n",
    "    elif input[i] == 'popMiddle':\n",
    "        print(q.popMiddle())\n",
    "    elif input[i] == 'popBack':\n",
    "        print(q.popBack())\n"
   ]
  },
  {
   "cell_type": "code",
   "execution_count": 32,
   "id": "59410dd7",
   "metadata": {},
   "outputs": [
    {
     "name": "stdout",
     "output_type": "stream",
     "text": [
      "False\n",
      "False\n",
      "True\n",
      "False\n"
     ]
    }
   ],
   "source": [
    "# SOLUTION: 8\n",
    "# The time complexity of this algorithm is O(k) for the consec method. This is because it needs to check if the last k integers are equal to value. The space complexity of this is O(k) as well because it needs to store the last k integers in the stream.\n",
    "\n",
    "# CODE:\n",
    "\n",
    "class DataStream:\n",
    "    def __init__(self, value: int, k: int):\n",
    "        self.stream = []\n",
    "        self.value = value\n",
    "        self.k = k\n",
    "\n",
    "    def consec(self, num: int) -> bool:\n",
    "        self.stream.append(num)\n",
    "        if len(self.stream) < self.k:\n",
    "            return False\n",
    "        if len(self.stream) > self.k:\n",
    "            self.stream.pop(0)\n",
    "        return all(x == self.value for x in self.stream)\n",
    "\n",
    "dataStream = DataStream(4, 3) # value = 4, k = 3\n",
    "print(dataStream.consec(4)) # Only 1 integer is parsed, so returns False.\n",
    "print(dataStream.consec(4)) # Only 2 integers are parsed. Since 2 is less than k, returns False.\n",
    "print(dataStream.consec(4)) # The 3 integers parsed are all equal to value, so returns True.\n",
    "print(dataStream.consec(3)) # The last k integers parsed in the stream are [4,4,3]. Since 3 is not equal to value, it returns False.\n"
   ]
  }
 ],
 "metadata": {
  "kernelspec": {
   "display_name": "Python 3 (ipykernel)",
   "language": "python",
   "name": "python3"
  },
  "language_info": {
   "codemirror_mode": {
    "name": "ipython",
    "version": 3
   },
   "file_extension": ".py",
   "mimetype": "text/x-python",
   "name": "python",
   "nbconvert_exporter": "python",
   "pygments_lexer": "ipython3",
   "version": "3.9.13"
  }
 },
 "nbformat": 4,
 "nbformat_minor": 5
}
