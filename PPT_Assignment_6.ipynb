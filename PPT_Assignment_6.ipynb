{
  "metadata": {
    "language_info": {
      "codemirror_mode": {
        "name": "python",
        "version": 3
      },
      "file_extension": ".py",
      "mimetype": "text/x-python",
      "name": "python",
      "nbconvert_exporter": "python",
      "pygments_lexer": "ipython3",
      "version": "3.8"
    },
    "kernelspec": {
      "name": "python",
      "display_name": "Python (Pyodide)",
      "language": "python"
    }
  },
  "nbformat_minor": 4,
  "nbformat": 4,
  "cells": [
    {
      "cell_type": "code",
      "source": "#SOLUTION: 1\n#We use a greedy algorithm to solve this problem. Here we start by initializing two pointers left and right to 0 and n respectively. Then we iterate over the string s and for each character in s, we check if it is ‘I’ or ‘D’. If it is ‘I’, we append the left pointer to the result array and increment left by 1. If it is ‘D’, we append the right pointer to the result array and decrement right by 1. Finally, we append the remaining pointer (either left or right) to the result array.\n#The time complexity of this approach is O(n), where n is the length of the input string s. The space complexity of this approach is O(n), where n is the length of the input string s.\n\n#CODE:\n\ndef diStringMatch(s: str) -> list[int]:\n    n = len(s)\n    left, right = 0, n\n    res = []\n    for i in range(n):\n        if s[i] == 'I':\n            res.append(left)\n            left += 1\n        else:\n            res.append(right)\n            right -= 1\n    res.append(left)\n    return res\ns = \"IDID\"\nprint(diStringMatch(s))",
      "metadata": {
        "trusted": true
      },
      "execution_count": 6,
      "outputs": [
        {
          "name": "stdout",
          "text": "[0, 4, 1, 3, 2]\n",
          "output_type": "stream"
        }
      ]
    },
    {
      "cell_type": "code",
      "source": "#SOLUTION: 2\n#Our approach of this problem’s solution is binary search, where the searchMatrix function takes a matrix and a target integer as input\n#The time complexity of this function is O(log(m * n)), where m is the number of rows in the matrix and n is the number of columns in the matrix. The space complexity of this function is O(1)\n\n#CODE:\nfrom typing import List\n\ndef searchMatrix(matrix: List[List[int]], target: int) -> bool:\n    m, n = len(matrix), len(matrix[0])\n    left, right = 0, m * n - 1\n    while left <= right:\n        mid = (left + right) // 2\n        row, col = divmod(mid, n)\n        if matrix[row][col] == target:\n            return True\n        elif matrix[row][col] < target:\n            left = mid + 1\n        else:\n            right = mid - 1\n    return False\n\nmatrix = [[1,3,5,7],[10,11,16,20],[23,30,34,60]]\ntarget = 3\n\nprint(searchMatrix(matrix, target))",
      "metadata": {
        "trusted": true
      },
      "execution_count": 57,
      "outputs": [
        {
          "name": "stdout",
          "text": "True\n",
          "output_type": "stream"
        }
      ]
    },
    {
      "cell_type": "code",
      "source": "#SOLUTION: 3\n#Our approach in this solution is to find the peak of the mountain by iterating through the array from left to right until it finds an element that is greater than its next element. Similarly, it iterates through the array from right to left until it finds an element that is greater than its previous element. If both these conditions are met and the peak is not at the beginning or end of the array, then the array is a valid mountain array.\n#The time complexity of this code is O(n), where n is the length of the input array. The space complexity of this code is O(1), which means that it uses a constant amount of extra space regardless of the size of the input array.\n\n#CODE:\n\nclass Solution:\n    def validMountainArray(self, arr: List[int]) -> bool:\n        if len(arr) < 3:\n            return False\n        l = 0\n        r = len(arr) - 1\n        while l + 1 < len(arr) - 1 and arr[l] < arr[l + 1]:\n            l += 1\n        while r - 1 > 0 and arr[r] < arr[r - 1]:\n            r -= 1\n        return l == r and l != 0 and r != len(arr) - 1\n\ns = Solution()\narr = [2,1]\nprint(s.validMountainArray(arr))",
      "metadata": {
        "trusted": true
      },
      "execution_count": 13,
      "outputs": [
        {
          "name": "stdout",
          "text": "False\n",
          "output_type": "stream"
        }
      ]
    },
    {
      "cell_type": "code",
      "source": "#SOLUTION: 4\n#The method used in this code is called the hashmap approach\n#The time complexity of this code is O(n), where n is the length of the input array. The space complexity of this code is O(n), where n is the length of the input array.\n\n#CODE:\n\ndef findMaxLength(nums):\n    maxlen = 0\n    count = 0\n    map = {0: -1}\n    for i in range(len(nums)):\n        count += 1 if nums[i] == 1 else -1\n        if count in map:\n            maxlen = max(maxlen, i - map[count])\n        else:\n            map[count] = i\n    return maxlen\n\nnums = [0, 1]\nprint(findMaxLength(nums))",
      "metadata": {
        "trusted": true
      },
      "execution_count": 18,
      "outputs": [
        {
          "name": "stdout",
          "text": "2\n",
          "output_type": "stream"
        }
      ]
    },
    {
      "cell_type": "code",
      "source": "#SOLUTION: 5\n#This problem is called the minimum sum of product of two arrays.To solve this problem, we can first sort one array in increasing order and the other array in decreasing order. Then we can multiply each element of the sorted arrays and add them up to get the minimum product sum.\n#The time complexity of this algorithm is O(n log n). The space complexity of this code is O(1).\n\n#CODE:\n\ndef minProductSum(nums1, nums2):\n    nums1.sort()\n    nums2.sort(reverse=True)\n    return sum([nums1[i] * nums2[i] for i in range(len(nums1))])\n\nnums1 = [5,3,4,2]\nnums2 = [4,2,2,5]\nprint(minProductSum(nums1, nums2))",
      "metadata": {
        "trusted": true
      },
      "execution_count": 20,
      "outputs": [
        {
          "name": "stdout",
          "text": "40\n",
          "output_type": "stream"
        }
      ]
    },
    {
      "cell_type": "code",
      "source": "#SOLUTION: 6\n#Our approach of this problem is to first sort the input array in ascending order. Then, we can iterate through the sorted array and find the corresponding element in the original array by dividing each element by 2. Finally, we can return the original array.\n#The time complexity is O(n log n), and the space complexity is O(n).\n\n#CODE:\n\nimport collections\nfrom typing import List\n\nclass Solution:\n    def findOriginalArray(self, changed: List[int]) -> List[int]:\n        if len(changed) % 2 != 0:\n            return []\n        freq = collections.Counter(changed)\n        res = []\n        for num in sorted(changed):\n            if freq[num] == 0:\n                continue\n            if freq[num * 2] == 0:\n                return []\n            res.append(num)\n            freq[num] -= 1\n            freq[num * 2] -= 1\n        return res\n\nchanged = [1,3,4,2,6,8]\nsolution = Solution()\nprint(solution.findOriginalArray(changed))",
      "metadata": {
        "trusted": true
      },
      "execution_count": 24,
      "outputs": [
        {
          "name": "stdout",
          "text": "[1, 3, 4]\n",
          "output_type": "stream"
        }
      ]
    },
    {
      "cell_type": "code",
      "source": "#SOLUTION: 7\n#The spiral matrix generation algorithm is an approach that generates a matrix in a spiral order.\n\"\"\"\nThe algorithm works as follows:\n    1- Initialize the matrix with zeros.\n    2- Set the starting row, ending row, starting column, and ending column.\n    3- Fill the first row from the starting column to the ending column.\n    4- Fill the last column from the starting row to the ending row.\n    5- Fill the last row from the ending column to the starting column.\n    6- Fill the first column from the ending row to the starting row.\n    7- Repeat steps 3-6 until all elements are filled.\n\"\"\"\n#The time complexity of this algorithm is O(n^2) and space complexity is O(1) .\n\n#CODE:\n\ndef generateMatrix(n):\n    matrix = [[0] * n for _ in range(n)]\n    start_row, end_row = 0, n - 1\n    start_col, end_col = 0, n - 1\n    num = 1\n    while start_row <= end_row and start_col <= end_col:\n        for i in range(start_col, end_col + 1):\n            matrix[start_row][i] = num\n            num += 1\n        for i in range(start_row + 1, end_row + 1):\n            matrix[i][end_col] = num\n            num += 1\n        for i in range(end_col - 1, start_col - 1, -1):\n            matrix[end_row][i] = num\n            num += 1\n        for i in range(end_row - 1, start_row, -1):\n            matrix[i][start_col] = num\n            num += 1\n        start_row += 1\n        end_row -= 1\n        start_col += 1\n        end_col -= 1\n    return matrix\n\nn = 3\nprint(generateMatrix(n))",
      "metadata": {
        "trusted": true
      },
      "execution_count": 39,
      "outputs": [
        {
          "name": "stdout",
          "text": "[[1, 2, 3], [8, 9, 4], [7, 6, 5]]\n",
          "output_type": "stream"
        }
      ]
    },
    {
      "cell_type": "code",
      "source": "#SOLUTION: 8\n#This problem reffers to sparse matrix multiplication. It is a matrix multiplication algorithm that is designed to work efficiently with matrices that have a large number of zero elements .\n\"\"\"\nTo solve this problem, we can use the following approach:\n    1- Create an empty result matrix of size m x n.\n    2- Iterate over each row of mat1.\n    3- For each row of mat1, iterate over each non-zero element.\n    4- For each non-zero element in the current row of mat1, iterate over each column of mat2.\n    5- For each non-zero element in the current row of mat1 and the current column of mat2, add the product of these elements to the corresponding element in the result matrix.\n\"\"\"\n#The time complexity of this algorithm is O(mnk). The space complexity of this algorithm is O(m + n).\n\n#CODE:\n\ndef multiply(mat1, mat2):\n    m, k = len(mat1), len(mat1[0])\n    n = len(mat2[0])\n    result = [[0] * n for _ in range(m)]\n    for i in range(m):\n        for j in range(k):\n            if mat1[i][j] != 0:\n                for l in range(n):\n                    if mat2[j][l] != 0:\n                        result[i][l] += mat1[i][j] * mat2[j][l]\n    return result\nmat1 = [[1, 0, 0], [-1, 0, 3]]\nmat2 = [[7, 0, 0], [0, 0, 0], [0, 0, 1]]\nresult = multiply(mat1, mat2)\nprint(result)",
      "metadata": {
        "trusted": true
      },
      "execution_count": 51,
      "outputs": [
        {
          "name": "stdout",
          "text": "[[7, 0, 0], [-7, 0, 3]]\n",
          "output_type": "stream"
        }
      ]
    }
  ]
}