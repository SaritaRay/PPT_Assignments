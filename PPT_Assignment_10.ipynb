{
 "cells": [
  {
   "cell_type": "code",
   "execution_count": 19,
   "id": "855d4a3e",
   "metadata": {},
   "outputs": [
    {
     "name": "stdout",
     "output_type": "stream",
     "text": [
      "True\n",
      "False\n",
      "False\n"
     ]
    }
   ],
   "source": [
    "#SOLUTION: 1\n",
    "#The time complexity of this function is O(log3(n)). The space complexity of this function is O(1).\n",
    "\n",
    "#CODE:\n",
    "\n",
    "def is_power_of_three(n):\n",
    "    if n == 0:\n",
    "        return False\n",
    "    elif n == 1:\n",
    "        return True\n",
    "    elif n % 3 != 0:\n",
    "        return False\n",
    "    else:\n",
    "        return is_power_of_three(n // 3)\n",
    "\n",
    "#Test case: I (with example input n = 27)\n",
    "print(is_power_of_three(27))\n",
    "\n",
    "#Test case: I (with example input n = 0)\n",
    "print(is_power_of_three(0))\n",
    "\n",
    "#Test case: I (with example input n = -1)\n",
    "print(is_power_of_three(-1))"
   ]
  },
  {
   "cell_type": "code",
   "execution_count": 29,
   "id": "f6186a6f",
   "metadata": {},
   "outputs": [
    {
     "name": "stdout",
     "output_type": "stream",
     "text": [
      "6\n",
      "1\n"
     ]
    }
   ],
   "source": [
    "#SOLUTION: 2\n",
    "#The time complexity of this algorithm is O(log n) and the space complexity is O(1). This is because the algorithm removes half of the remaining numbers in each iteration, so the number of iterations required to reach the last remaining number is log(n). The space complexity is constant because the algorithm only uses a single list to store the numbers.\n",
    "\n",
    "#CODE:\n",
    "\n",
    "def last_remaining_number(n):\n",
    "    arr = list(range(1, n+1))\n",
    "    left_to_right = True\n",
    "    while len(arr) > 1:\n",
    "        if left_to_right:\n",
    "            arr = arr[1::2]\n",
    "        else:\n",
    "            arr = arr[-2::-2][::-1]\n",
    "        left_to_right = not left_to_right\n",
    "    return arr[0]\n",
    "\n",
    "#Test case: I (with example input n = 9)\n",
    "print(last_remaining_number(9))\n",
    "\n",
    "#Test case: I (with example input n = 1)\n",
    "print(last_remaining_number(1))\n"
   ]
  },
  {
   "cell_type": "code",
   "execution_count": 3,
   "id": "54ac7ed4",
   "metadata": {},
   "outputs": [
    {
     "name": "stdout",
     "output_type": "stream",
     "text": [
      "[[], ['c'], ['b'], ['b', 'c'], ['a'], ['a', 'c'], ['a', 'b'], ['a', 'b', 'c']]\n",
      "[[], ['d'], ['c'], ['c', 'd'], ['b'], ['b', 'd'], ['b', 'c'], ['b', 'c', 'd'], ['a'], ['a', 'd'], ['a', 'c'], ['a', 'c', 'd'], ['a', 'b'], ['a', 'b', 'd'], ['a', 'b', 'c'], ['a', 'b', 'c', 'd']]\n"
     ]
    }
   ],
   "source": [
    "#SOLUTION: 3\n",
    "#The time complexity for this algorithm is O(2^n) where n is the size of the set. The total number of subsets of a given set of size n is 2^n. The space complexity is O(n) for an extra array subset.\n",
    "\n",
    "#CODE:\n",
    "\n",
    "def allSubsets(s):\n",
    "    if len(s) == 0:\n",
    "        return [[]]\n",
    "    subsets = allSubsets(s[1:])\n",
    "    return subsets + [[s[0]] + subset for subset in subsets]\n",
    "\n",
    "s = \"abc\"\n",
    "print(allSubsets(s))\n",
    "\n",
    "s = \"abcd\"\n",
    "print(allSubsets(s))\n"
   ]
  },
  {
   "cell_type": "code",
   "execution_count": 48,
   "id": "33b1074d",
   "metadata": {},
   "outputs": [
    {
     "name": "stdout",
     "output_type": "stream",
     "text": [
      "Enter a string: abcd\n",
      "Length of the string: 4\n",
      "Enter a string: GEEKSFORGEEKS\n",
      "Length of the string: 13\n"
     ]
    }
   ],
   "source": [
    "#SOLUTION: 4\n",
    "#The time complexity of the recursive function is O(n). This is because the function makes n recursive calls, where n is the length of the string. Each call takes constant time to execute, so the total time complexity is O(n). The space complexity of the recursive function is also O(n). This is because each recursive call adds a new frame to the call stack, which takes up space proportional to the length of the string. Since there are n recursive calls, the total space complexity is O(n)\n",
    "\n",
    "#CODE:\n",
    "def string_length(string):\n",
    "    if string == '':\n",
    "        return 0\n",
    "    else:\n",
    "        return 1 + string_length(string[1:])\n",
    "\n",
    "string = input(\"Enter a string: \")\n",
    "print(\"Length of the string:\", string_length(string))\n",
    "\n",
    "string = input(\"Enter a string: \")\n",
    "print(\"Length of the string:\", string_length(string))\n"
   ]
  },
  {
   "cell_type": "code",
   "execution_count": 56,
   "id": "7b4470ab",
   "metadata": {},
   "outputs": [
    {
     "name": "stdout",
     "output_type": "stream",
     "text": [
      "7\n",
      "4\n"
     ]
    }
   ],
   "source": [
    "#SOLUTION: 5\n",
    "#The time complexity of this algorithm is O(n^2), where n is the length of the input string S. This is because the algorithm iterates over all possible pairs of indices (i, j) such that i <= j. The space complexity of this algorithm is O(1), because it only uses a constant amount of extra space to store the count variable.\n",
    "\n",
    "#CODE:\n",
    "\n",
    "def count_substrings(S):\n",
    "    count = 0\n",
    "    for i in range(len(S)):\n",
    "        for j in range(i, len(S)):\n",
    "            if S[i] == S[j]:\n",
    "                count += 1\n",
    "    return count\n",
    "\n",
    "#Test case: I (with example input S = \"abcab\")\n",
    "S = \"abcab\"\n",
    "print(count_substrings(S))\n",
    "\n",
    "#Test case: II (with example input S = \"aba\")\n",
    "S = \"aba\"\n",
    "print(count_substrings(S))\n"
   ]
  },
  {
   "cell_type": "code",
   "execution_count": 58,
   "id": "8f564d2d",
   "metadata": {},
   "outputs": [
    {
     "name": "stdout",
     "output_type": "stream",
     "text": [
      "Enter the number of disks: 2\n",
      "Starting the Tower of Hanoi algorithm...\n",
      "Move disk 1 from rod 1 to rod 2\n",
      "Move disk 2 from rod 1 to rod 3\n",
      "Move disk 1 from rod 2 to rod 3\n",
      "The Tower of Hanoi algorithm is complete!\n",
      "Enter the number of disks: 3\n",
      "Starting the Tower of Hanoi algorithm...\n",
      "Move disk 1 from rod 1 to rod 3\n",
      "Move disk 2 from rod 1 to rod 2\n",
      "Move disk 1 from rod 3 to rod 2\n",
      "Move disk 3 from rod 1 to rod 3\n",
      "Move disk 1 from rod 2 to rod 1\n",
      "Move disk 2 from rod 2 to rod 3\n",
      "Move disk 1 from rod 1 to rod 3\n",
      "The Tower of Hanoi algorithm is complete!\n"
     ]
    }
   ],
   "source": [
    "#SOLUTION: 6\n",
    "#The time complexity of the Tower of Hanoi algorithm is O(2^n), where n is the number of disks. This is because the algorithm recursively solves two subproblems of size n-1 at each step, and the number of steps required to solve a problem of size n is equal to 2^n - 1. The space complexity of the Tower of Hanoi algorithm is O(n), where n is the number of disks. This is because the algorithm uses a recursive approach and at any point in time, it needs to keep track of n disks and three rods which are used for moving the disks.\n",
    "\n",
    "#CODE:\n",
    "\n",
    "def tower_of_hanoi(n, source_rod, destination_rod, auxiliary_rod):\n",
    "    if n == 1:\n",
    "        print(\"Move disk 1 from rod\", source_rod, \"to rod\", destination_rod)\n",
    "        return\n",
    "    tower_of_hanoi(n-1, source_rod, auxiliary_rod, destination_rod)\n",
    "    print(\"Move disk\", n, \"from rod\", source_rod, \"to rod\", destination_rod)\n",
    "    tower_of_hanoi(n-1, auxiliary_rod, destination_rod, source_rod)\n",
    "\n",
    "n = int(input(\"Enter the number of disks: \"))\n",
    "print(\"Starting the Tower of Hanoi algorithm...\")\n",
    "tower_of_hanoi(n, '1', '3', '2')\n",
    "print(\"The Tower of Hanoi algorithm is complete!\")\n",
    "\n",
    "\n",
    "n = int(input(\"Enter the number of disks: \"))\n",
    "print(\"Starting the Tower of Hanoi algorithm...\")\n",
    "tower_of_hanoi(n, '1', '3', '2')\n",
    "print(\"The Tower of Hanoi algorithm is complete!\")\n"
   ]
  },
  {
   "cell_type": "code",
   "execution_count": 61,
   "id": "9da282f9",
   "metadata": {},
   "outputs": [
    {
     "name": "stdout",
     "output_type": "stream",
     "text": [
      "cd\n",
      "dc\n",
      "abb\n",
      "abb\n",
      "bab\n",
      "bba\n",
      "bba\n",
      "bab\n"
     ]
    }
   ],
   "source": [
    "#SOLUTION: 7\n",
    "#The time complexity of this algorithm is O(n * n) and space complexity is O(n).\n",
    "\n",
    "#CODE:\n",
    "\n",
    "def permute(data, i, length):\n",
    "    if i == length:\n",
    "        print(''.join(data))\n",
    "    else:\n",
    "        for j in range(i, length):\n",
    "            # swap the characters\n",
    "            data[i], data[j] = data[j], data[i]\n",
    "            permute(data, i + 1, length)\n",
    "            data[i], data[j] = data[j], data[i]\n",
    "\n",
    "string = \"cd\"\n",
    "n = len(string)\n",
    "data = list(string)\n",
    "permute(data, 0, n)\n",
    "\n",
    "            \n",
    "string = \"abb\"\n",
    "n = len(string)\n",
    "data = list(string)\n",
    "permute(data, 0, n)\n"
   ]
  },
  {
   "cell_type": "code",
   "execution_count": 63,
   "id": "672156cc",
   "metadata": {},
   "outputs": [
    {
     "name": "stdout",
     "output_type": "stream",
     "text": [
      "Enter any string: abc de\n",
      "Number of consonants: 3\n",
      "Enter any string: geeksforgeeks portal\n",
      "Number of consonants: 12\n"
     ]
    }
   ],
   "source": [
    "#SOLUTION: 8\n",
    "#The time complexity of this algorithm is O(n) and space complexity is O(n).\n",
    "\n",
    "#CODE:\n",
    "\n",
    "def countConsonants(string):\n",
    "    num_consonants = [each for each in string if each not in \"aeiouAEIOU \"]\n",
    "    print('Number of consonants:', len(num_consonants))\n",
    "\n",
    "string = input('Enter any string: ')\n",
    "countConsonants(string)\n",
    "\n",
    "string = input('Enter any string: ')\n",
    "countConsonants(string)\n"
   ]
  }
 ],
 "metadata": {
  "kernelspec": {
   "display_name": "Python 3 (ipykernel)",
   "language": "python",
   "name": "python3"
  },
  "language_info": {
   "codemirror_mode": {
    "name": "ipython",
    "version": 3
   },
   "file_extension": ".py",
   "mimetype": "text/x-python",
   "name": "python",
   "nbconvert_exporter": "python",
   "pygments_lexer": "ipython3",
   "version": "3.9.13"
  }
 },
 "nbformat": 4,
 "nbformat_minor": 5
}
