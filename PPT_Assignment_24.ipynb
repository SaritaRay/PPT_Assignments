{
 "cells": [
  {
   "cell_type": "code",
   "execution_count": 5,
   "id": "a611acd0",
   "metadata": {},
   "outputs": [
    {
     "name": "stdout",
     "output_type": "stream",
     "text": [
      "The integer value of roman numeral III is:  3\n",
      " \n",
      "The integer value of roman numeral LVIII is:  58\n"
     ]
    }
   ],
   "source": [
    "# SOLUTION: 1\n",
    "# The time complexity of this algorithm is O(n), where n is the length of the input string, since we iterate through the string once. The space complexity is O(1), since we use a fixed-size unordered map.\n",
    "\n",
    "# CODE:\n",
    "\n",
    "class Solution:\n",
    "    def romanToInt(self, s: str) -> int:\n",
    "        roman_to_int = {'I': 1, 'V': 5, 'X': 10, 'L': 50, 'C': 100, 'D': 500, 'M': 1000}\n",
    "        result = 0\n",
    "        prev_value = 0\n",
    "        for i in range(len(s)-1, -1, -1):\n",
    "            value = roman_to_int[s[i]]\n",
    "            if value < prev_value:\n",
    "                result -= value\n",
    "            else:\n",
    "                result += value\n",
    "            prev_value = value\n",
    "        return result\n",
    "\n",
    "# Example usage:\n",
    "# Example_1:\n",
    "s = \"III\"\n",
    "print(\"The integer value of roman numeral\", s, \"is: \", Solution().romanToInt(s))\n",
    "\n",
    "print(\" \")\n",
    "\n",
    "# Example_2:\n",
    "s = \"LVIII\"\n",
    "print(\"The integer value of roman numeral\", s, \"is: \", Solution().romanToInt(s))\n"
   ]
  },
  {
   "cell_type": "code",
   "execution_count": 13,
   "id": "e5a56a77",
   "metadata": {},
   "outputs": [
    {
     "name": "stdout",
     "output_type": "stream",
     "text": [
      "from example_1, Length of the longest substring without repeating characters is :  3\n",
      " \n",
      "from example_2, Length of the longest substring without repeating characters is :  1\n",
      " \n",
      "from example_3, Length of the longest substring without repeating characters is :  3\n"
     ]
    }
   ],
   "source": [
    "# SOLUTION: 2\n",
    "# The time complexity of this algorithm is O(n), where n is the length of the input string. The space complexity of this algorithm is O(min(m, n)), where m is the size of the character set.\n",
    "\n",
    "# CODE:\n",
    "\n",
    "def lengthOfLongestSubstring(s: str) -> int:\n",
    "    n = len(s)\n",
    "    ans = 0\n",
    "    mp = {}\n",
    "    i = 0\n",
    "    for j in range(n):\n",
    "        if s[j] in mp:\n",
    "            i = max(mp[s[j]], i)\n",
    "        ans = max(ans, j - i + 1)\n",
    "        mp[s[j]] = j + 1\n",
    "    return ans\n",
    "\n",
    "# example usage:\n",
    "# Example_1:\n",
    "print(\"from example_1, Length of the longest substring without repeating characters is : \", lengthOfLongestSubstring(\"abcabcbb\"))\n",
    "\n",
    "print(\" \")\n",
    "\n",
    "# Example_2:\n",
    "print(\"from example_2, Length of the longest substring without repeating characters is : \", lengthOfLongestSubstring(\"bbbbb\"))\n",
    "\n",
    "print(\" \")\n",
    "\n",
    "# Example_3:\n",
    "print(\"from example_3, Length of the longest substring without repeating characters is : \", lengthOfLongestSubstring(\"pwwkew\"))\n"
   ]
  },
  {
   "cell_type": "code",
   "execution_count": 16,
   "id": "0a7663ca",
   "metadata": {},
   "outputs": [
    {
     "name": "stdout",
     "output_type": "stream",
     "text": [
      "The majority element of the given array [3, 2, 3] is :  3\n",
      " \n",
      "The majority element of the given array [2, 2, 1, 1, 1, 2, 2] is :  2\n"
     ]
    }
   ],
   "source": [
    "# SOLUTION: 3\n",
    "# The time complexity of this algorithm (Boyer Moore Algorithm) is O(n) and the space complexity is O(1).\n",
    "\n",
    "# CODE:\n",
    "\n",
    "def majorityElement(nums):\n",
    "    count = 0\n",
    "    candidate = None\n",
    "\n",
    "    for num in nums:\n",
    "        if count == 0:\n",
    "            candidate = num\n",
    "        count += (1 if num == candidate else -1)\n",
    "\n",
    "    return candidate\n",
    "\n",
    "# example usage:\n",
    "# Example_1:\n",
    "nums = [3,2,3]\n",
    "print(\"The majority element of the given array\", nums, \"is : \", majorityElement(nums))\n",
    "\n",
    "print(\" \")\n",
    "\n",
    "# Example_2:\n",
    "nums = [2,2,1,1,1,2,2]\n",
    "print(\"The majority element of the given array\", nums, \"is : \", majorityElement(nums))\n"
   ]
  },
  {
   "cell_type": "code",
   "execution_count": 26,
   "id": "01196dda",
   "metadata": {},
   "outputs": [
    {
     "name": "stdout",
     "output_type": "stream",
     "text": [
      "1. INPUT: strs =  ['eat', 'tea', 'tan', 'ate', 'nat', 'bat']\n",
      "OUTPUT: groupAnagrams =  [['bat'], ['tan', 'nat'], ['eat', 'tea', 'ate']]\n",
      " \n",
      "2. INPUT: strs =  ['']\n",
      "OUTPUT: groupAnagrams =  [['']]\n",
      " \n",
      "3. INPUT: strs =  ['a']\n",
      "OUTPUT: groupAnagrams =  [['a']]\n"
     ]
    }
   ],
   "source": [
    "# SOLUTION: 4\n",
    "# The time complexity of this algorithm is O(n * mlogm), where n is the number of words in the input list and m is the maximum length of a word. The space complexity of this is O(n + m), where n is the number of words in the input list and m is the maximum length of a word.\n",
    "\n",
    "# CODE:\n",
    "\n",
    "def groupAnagrams(strs):\n",
    "    d = {}\n",
    "    for s in strs:\n",
    "        key = ''.join(sorted(s))\n",
    "        if key not in d:\n",
    "            d[key] = [s]\n",
    "        else:\n",
    "            d[key].append(s)\n",
    "    return sorted(d.values(), key=lambda x: (len(x), x[0]))\n",
    "\n",
    "# example usage:\n",
    "# Example_1:\n",
    "strs = [\"eat\",\"tea\",\"tan\",\"ate\",\"nat\",\"bat\"]\n",
    "print(\"1. INPUT: strs = \", strs)\n",
    "print(\"OUTPUT: groupAnagrams = \", groupAnagrams(strs))\n",
    "\n",
    "print(\" \")\n",
    "\n",
    "# Example_2:\n",
    "strs = [\"\"]\n",
    "print(\"2. INPUT: strs = \", strs)\n",
    "print(\"OUTPUT: groupAnagrams = \", groupAnagrams(strs))\n",
    "\n",
    "print(\" \")\n",
    "\n",
    "# Example_3:\n",
    "strs = [\"a\"]\n",
    "print(\"3. INPUT: strs = \", strs)\n",
    "print(\"OUTPUT: groupAnagrams = \", groupAnagrams(strs))\n"
   ]
  },
  {
   "cell_type": "code",
   "execution_count": 33,
   "id": "85556d7c",
   "metadata": {},
   "outputs": [
    {
     "name": "stdout",
     "output_type": "stream",
     "text": [
      "The nth Ugly Number of 10 is :  12\n",
      " \n",
      "The nth Ugly Number of 1 is :  1\n"
     ]
    }
   ],
   "source": [
    "# SOLUTION: 5\n",
    "# The time complexity of this algorithm is O(n) and the space complexity is O(n) as we need to store the list of n ugly numbers.\n",
    "\n",
    "# CODE:\n",
    "\n",
    "class Solution:\n",
    "    def nthUglyNumber(self, n: int) -> int:\n",
    "        ugly = [1]\n",
    "        i2 = i3 = i5 = 0\n",
    "        while n > 1:\n",
    "            u2, u3, u5 = 2 * ugly[i2], 3 * ugly[i3], 5 * ugly[i5]\n",
    "            umin = min(u2, u3, u5)\n",
    "            if umin == u2:\n",
    "                i2 += 1\n",
    "            if umin == u3:\n",
    "                i3 += 1\n",
    "            if umin == u5:\n",
    "                i5 += 1\n",
    "            ugly.append(umin)\n",
    "            n -= 1\n",
    "        return ugly[-1]\n",
    "    \n",
    "# example usage:\n",
    "# Example_1:\n",
    "n = 10\n",
    "print(\"The nth Ugly Number of\", n, \"is : \", Solution().nthUglyNumber(n))\n",
    "\n",
    "print(\" \")\n",
    "\n",
    "# Example_2:\n",
    "n = 1\n",
    "print(\"The nth Ugly Number of\", n, \"is : \", Solution().nthUglyNumber(n))\n"
   ]
  },
  {
   "cell_type": "code",
   "execution_count": 40,
   "id": "f072ba56",
   "metadata": {},
   "outputs": [
    {
     "name": "stdout",
     "output_type": "stream",
     "text": [
      "from Example_1, words =  ['i', 'love', 'leetcode', 'i', 'love', 'coding']\n",
      "The 2 most frequent words are =  ['i', 'love']\n",
      " \n",
      "from Example_2, words =  ['the', 'day', 'is', 'sunny', 'the', 'the', 'the', 'sunny', 'is', 'is']\n",
      "The 4 most frequent words are =  ['the', 'is', 'sunny', 'day']\n"
     ]
    }
   ],
   "source": [
    "# SOLUTION: 6\n",
    "# The time complexity of this algorithm is O(n log n), where n is the length of the input list. The space complexity is O(n).\n",
    "\n",
    "# CODE:\n",
    "\n",
    "from collections import Counter\n",
    "\n",
    "def topKFrequent(words, k):\n",
    "    count = Counter(words)\n",
    "    candidates = count.keys()\n",
    "    candidates = sorted(candidates, key=lambda w: (-count[w], w))\n",
    "    return candidates[:k]\n",
    "\n",
    "# example usage:\n",
    "# Example_1:\n",
    "words = [\"i\",\"love\",\"leetcode\",\"i\",\"love\",\"coding\"]\n",
    "k = 2\n",
    "print(\"from Example_1, words = \", words)\n",
    "print(\"The\", k, \"most frequent words are = \", topKFrequent(words, k))\n",
    "\n",
    "print(\" \")\n",
    "\n",
    "# Example_2:\n",
    "words = [\"the\",\"day\",\"is\",\"sunny\",\"the\",\"the\",\"the\",\"sunny\",\"is\",\"is\"]\n",
    "k = 4\n",
    "print(\"from Example_2, words = \", words)\n",
    "print(\"The\", k, \"most frequent words are = \", topKFrequent(words, k))\n"
   ]
  },
  {
   "cell_type": "code",
   "execution_count": 55,
   "id": "2c60c660",
   "metadata": {},
   "outputs": [
    {
     "name": "stdout",
     "output_type": "stream",
     "text": [
      "Example_1: array of integer nums =  [1, 3, -1, -3, 5, 3, 6, 7] , k =  3\n",
      "The max sliding window is =  [3, 3, 5, 5, 6, 7]\n",
      " \n",
      "Example_2: array of integer nums =  [1] , k =  1\n",
      "The max sliding window is =  [1]\n"
     ]
    }
   ],
   "source": [
    "# SOLUTION: 7\n",
    "# The time complexity of this algorithm is O(N), where N is the length of the input list. The space complexity is O(K) .\n",
    "\n",
    "# CODE:\n",
    "\n",
    "from collections import deque\n",
    "\n",
    "def maxSlidingWindow(nums, k):\n",
    "    q = deque()\n",
    "    res = []\n",
    "    for i in range(len(nums)):\n",
    "        if q and q[0] == i - k:\n",
    "            q.popleft()\n",
    "        while q and nums[q[-1]] < nums[i]:\n",
    "            q.pop()\n",
    "        q.append(i)\n",
    "        if i >= k - 1:\n",
    "            res.append(nums[q[0]])\n",
    "    return res\n",
    "\n",
    "# example usage:\n",
    "# Example_1:\n",
    "nums = [1,3,-1,-3,5,3,6,7]\n",
    "k = 3\n",
    "print(\"Example_1: array of integer nums = \", nums, \", k = \", k)\n",
    "print(\"The max sliding window is = \", maxSlidingWindow(nums, k))\n",
    "\n",
    "print(\" \")\n",
    "\n",
    "# Example_2:\n",
    "nums = [1]\n",
    "k = 1\n",
    "print(\"Example_2: array of integer nums = \", nums, \", k = \", k)\n",
    "print(\"The max sliding window is = \", maxSlidingWindow(nums, k))\n"
   ]
  },
  {
   "cell_type": "code",
   "execution_count": 65,
   "id": "2d60422a",
   "metadata": {},
   "outputs": [
    {
     "name": "stdout",
     "output_type": "stream",
     "text": [
      "Example_1: array =  [1, 2, 3, 4, 5] , k =  4 , x =  3\n",
      "The 'k' closest integers to 'x' in the given 'array' is =  [1, 2, 3, 4]\n",
      " \n",
      "Example_2: array =  [1, 2, 3, 4, 5] , k =  4 , x =  -1\n",
      "The 'k' closest integers to 'x' in the given 'array' is =  [1, 2, 3, 4]\n"
     ]
    }
   ],
   "source": [
    "# SOLUTION: 8\n",
    "# The time complexity of this algorithm is O(log N + K), where N is the length of the input list. The space complexity is O(1).\n",
    "\n",
    "# CODE:\n",
    "\n",
    "def findClosestElements(arr, k, x):\n",
    "    left = 0\n",
    "    right = len(arr) - k\n",
    "    while left < right:\n",
    "        mid = (left + right) // 2\n",
    "        if x - arr[mid] > arr[mid + k] - x:\n",
    "            left = mid + 1\n",
    "        else:\n",
    "            right = mid\n",
    "    return arr[left:left + k]\n",
    "\n",
    "# example usage:\n",
    "# Example_1:\n",
    "arr = [1,2,3,4,5]\n",
    "k = 4\n",
    "x = 3\n",
    "print(\"Example_1: array = \", arr, \", k = \", k, \", x = \", x)\n",
    "print(\"The 'k' closest integers to 'x' in the given 'array' is = \", findClosestElements(arr, k, x))\n",
    "\n",
    "print(\" \")\n",
    "\n",
    "# Example_2:\n",
    "arr = [1,2,3,4,5]\n",
    "k = 4\n",
    "x = -1\n",
    "print(\"Example_2: array = \", arr, \", k = \", k, \", x = \", x)\n",
    "print(\"The 'k' closest integers to 'x' in the given 'array' is = \", findClosestElements(arr, k, x))\n"
   ]
  }
 ],
 "metadata": {
  "kernelspec": {
   "display_name": "Python 3 (ipykernel)",
   "language": "python",
   "name": "python3"
  },
  "language_info": {
   "codemirror_mode": {
    "name": "ipython",
    "version": 3
   },
   "file_extension": ".py",
   "mimetype": "text/x-python",
   "name": "python",
   "nbconvert_exporter": "python",
   "pygments_lexer": "ipython3",
   "version": "3.9.13"
  }
 },
 "nbformat": 4,
 "nbformat_minor": 5
}
