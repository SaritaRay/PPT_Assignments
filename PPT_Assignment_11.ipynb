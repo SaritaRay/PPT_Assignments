{
 "cells": [
  {
   "cell_type": "code",
   "execution_count": 8,
   "id": "dc42c280",
   "metadata": {},
   "outputs": [
    {
     "name": "stdout",
     "output_type": "stream",
     "text": [
      "2\n",
      "2\n"
     ]
    }
   ],
   "source": [
    "#SOLUTION: 1\n",
    "#To find the square root of a non-negative integer without using built-in functions, we can use the Babylonian method. Here is how it works:\n",
    "\n",
    "\"\"\"\n",
    "1) Start with an arbitrary positive start value y.\n",
    "2) Calculate x/y.\n",
    "3) Average y and x/y.\n",
    "4) Use the average as the new value for y.\n",
    "5) Repeat steps 2-4 until the difference between y and x/y is less than a very small number (e.g., 0.00001).\n",
    "\"\"\"\n",
    "\n",
    "#The time complexity of this algorithm is O(log n), where n is the input number . The space complexity of this algorithm is O(1) because it uses a constant amount of memory.\n",
    "\n",
    "#CODE:\n",
    "\n",
    "def mySqrt(x):\n",
    "    if x == 0:\n",
    "        return 0\n",
    "\n",
    "    y = x\n",
    "    while y > x / y:\n",
    "        y = (y + x / y) // 2\n",
    "\n",
    "    return int(y)\n",
    "\n",
    "#By using Example 1. Input: x = 4\n",
    "x = 4\n",
    "print(mySqrt(x))\n",
    "\n",
    "#By using Example 2. Input: x = 8\n",
    "x = 8\n",
    "print(mySqrt(x))\n"
   ]
  },
  {
   "cell_type": "code",
   "execution_count": 10,
   "id": "f42bdf8b",
   "metadata": {},
   "outputs": [
    {
     "name": "stdout",
     "output_type": "stream",
     "text": [
      "2\n",
      "5\n"
     ]
    }
   ],
   "source": [
    "#SOLUTION: 2\n",
    "#The time complexity of this algorithm is O(log n), where N is the number of elements in the input array. The space complexity of the algorithm is O(1). No extra space is required, so the space complexity is constant\n",
    "\n",
    "#CODE:\n",
    "\n",
    "def find_peak_element(nums):\n",
    "    left = 0\n",
    "    right = len(nums) - 1\n",
    "\n",
    "    while left < right:\n",
    "        mid = (left + right) // 2\n",
    "        if nums[mid] > nums[mid + 1]:\n",
    "            right = mid\n",
    "        else:\n",
    "            left = mid + 1\n",
    "\n",
    "    return left\n",
    "\n",
    "#By using Example 1. Input: nums = [1, 2, 3, 1]\n",
    "nums = [1, 2, 3, 1]\n",
    "print(find_peak_element(nums))\n",
    "\n",
    "#By using Example 2. Input: nums = [1,2,1,3,5,6,4]\n",
    "nums = [1,2,1,3,5,6,4]\n",
    "print(find_peak_element(nums))\n"
   ]
  },
  {
   "cell_type": "code",
   "execution_count": 12,
   "id": "87a18b13",
   "metadata": {},
   "outputs": [
    {
     "name": "stdout",
     "output_type": "stream",
     "text": [
      "2\n",
      "2\n",
      "8\n"
     ]
    }
   ],
   "source": [
    "#SOLUTION: 3\n",
    "#The time complexity of this algorithm is O(n), where n is the length of the input array. The space complexity of this algorithm is O(1), which means that the amount of memory used by the algorithm does not depend on the size of the input array.\n",
    "\n",
    "#CODE:\n",
    "\n",
    "def find_missing_number(nums):\n",
    "    n = len(nums)\n",
    "    total_sum = n*(n+1)//2\n",
    "    sum_of_nums = sum(nums)\n",
    "    return total_sum - sum_of_nums\n",
    "\n",
    "#By using Example 1. Input: nums = [3,0,1]\n",
    "nums = [3,0,1]\n",
    "missing_number = find_missing_number(nums)\n",
    "print(missing_number)\n",
    "\n",
    "#By using Example 2. Input: nums = [0,1]\n",
    "nums = [0,1]\n",
    "missing_number = find_missing_number(nums)\n",
    "print(missing_number)\n",
    "\n",
    "#By using Example 3. Input: nums = [9,6,4,2,3,5,7,0,1]\n",
    "nums = [9,6,4,2,3,5,7,0,1]\n",
    "missing_number = find_missing_number(nums)\n",
    "print(missing_number)\n"
   ]
  },
  {
   "cell_type": "code",
   "execution_count": 19,
   "id": "8451e30c",
   "metadata": {},
   "outputs": [
    {
     "name": "stdout",
     "output_type": "stream",
     "text": [
      "[2]\n",
      "[3]\n"
     ]
    }
   ],
   "source": [
    "#SOLUTION: 4\n",
    "#The time complexity of this algorithm to find duplicate numbers in an array is O(n) and the space complexity is constant.\n",
    "\n",
    "#CODE:\n",
    "\n",
    "def findDuplicate(nums):\n",
    "    nums.sort()\n",
    "    for i in range(len(nums)):\n",
    "        if nums[i] == nums[i+1]:\n",
    "            return nums[i]\n",
    "\n",
    "#By using Example 1: Input: nums = [1,3,4,2,2]\n",
    "nums = [1,3,4,2,2]\n",
    "print(findDuplicates(nums))\n",
    "        \n",
    "#By using Example 2: Input: nums = [3,1,3,4,2]\n",
    "nums = [3,1,3,4,2]\n",
    "print(findDuplicates(nums))\n"
   ]
  },
  {
   "cell_type": "code",
   "execution_count": 27,
   "id": "ca81a460",
   "metadata": {},
   "outputs": [
    {
     "name": "stdout",
     "output_type": "stream",
     "text": [
      "[2]\n",
      "[9, 4]\n"
     ]
    }
   ],
   "source": [
    "#SOLUTION: 5\n",
    "#The time complexity of this algorithm is O(m+n), where m and n are the lengths of nums1 and nums2, respectively. This is because we use two set operations (set intersection and set conversion) that each take O(m) and O(n) time, respectively. The space complexity of this algorithm is O(m+n), where m and n are the lengths of nums1 and nums2, respectively. This is because we use two sets that each take O(m) and O(n) space, respectively.\n",
    "\n",
    "#CODE:\n",
    "\n",
    "class Solution:\n",
    "    def intersection(self, nums1: list[int], nums2: list[int]) -> list[int]:\n",
    "        return list(set(nums1) & set(nums2))\n",
    "\n",
    "# Creating an instance of the Solution class\n",
    "s = Solution()\n",
    "\n",
    "\n",
    "# Defining the input arrays: By Using Example 1. \n",
    "nums1 = [1,2,2,1]\n",
    "nums2 = [2,2]\n",
    "\n",
    "# Calling the intersection() function and printing the output\n",
    "print(s.intersection(nums1, nums2))\n",
    "\n",
    "# Defining the input arrays: By Using Example 2.\n",
    "nums1 = [4,9,5]\n",
    "nums2 = [9,4,9,8,4]\n",
    "\n",
    "# Calling the intersection() function and printing the output\n",
    "print(s.intersection(nums1, nums2))\n"
   ]
  },
  {
   "cell_type": "code",
   "execution_count": 30,
   "id": "722e436a",
   "metadata": {},
   "outputs": [
    {
     "name": "stdout",
     "output_type": "stream",
     "text": [
      "1\n",
      "0\n",
      "11\n"
     ]
    }
   ],
   "source": [
    "#SOLUTION: 6\n",
    "#The time complexity of this algorithm is O(log n), where n is the length of the input array. This is because the algorithm uses binary search to find the pivot element, which takes O(log n) time.The space complexity of this algorithm is O(1), which means that the amount of memory used by this algorithm does not depend on the size of the input array.\n",
    "\n",
    "#CODE:\n",
    "\n",
    "def findMin(nums):\n",
    "    left, right = 0, len(nums) - 1\n",
    "    while left < right:\n",
    "        mid = (left + right) // 2\n",
    "        if nums[mid] > nums[right]:\n",
    "            left = mid + 1\n",
    "        else:\n",
    "            right = mid\n",
    "    return nums[left]\n",
    "\n",
    "#By using Example 1. Input: nums = [3,4,5,1,2]\n",
    "nums = [3,4,5,1,2]\n",
    "print(findMin(nums))\n",
    "\n",
    "#By using Example 2. Input: nums = [4,5,6,7,0,1,2]\n",
    "nums = [4,5,6,7,0,1,2]\n",
    "print(findMin(nums))\n",
    "\n",
    "#By using Example 3. Input: nums = [11,13,15,17]\n",
    "nums = [11,13,15,17]\n",
    "print(findMin(nums))\n"
   ]
  },
  {
   "cell_type": "code",
   "execution_count": 38,
   "id": "2e81ca43",
   "metadata": {},
   "outputs": [
    {
     "name": "stdout",
     "output_type": "stream",
     "text": [
      "[3, 4]\n",
      "[-1, -1]\n",
      "[-1, -1]\n"
     ]
    }
   ],
   "source": [
    "#SOLUTION: 7\n",
    "#The time complexity of this algorithm is O(log n), where n is the length of the input array. The space complexity is O(1), which means that the amount of memory used by this algorithm does not depend on the size of the input array.\n",
    "\n",
    "#CODE:\n",
    "def searchRange(nums, target):\n",
    "    left, right = 0, len(nums) - 1\n",
    "    start, end = -1, -1\n",
    "    while left <= right:\n",
    "        mid = (left + right) // 2\n",
    "        if nums[mid] == target:\n",
    "            start = end = mid\n",
    "            while start > 0 and nums[start - 1] == target:\n",
    "                start -= 1\n",
    "            while end < len(nums) - 1 and nums[end + 1] == target:\n",
    "                end += 1\n",
    "            return [start, end]\n",
    "        elif nums[mid] < target:\n",
    "            left = mid + 1\n",
    "        else:\n",
    "            right = mid - 1\n",
    "    return [start, end]\n",
    "\n",
    "#By using Example 1. Input: nums = [5,7,7,8,8,10], target = 8\n",
    "nums = [5,7,7,8,8,10]\n",
    "target = 8\n",
    "print(searchRange(nums, target))\n",
    "\n",
    "#By using Example 2. Input: nums = [5,7,7,8,8,10], target = 6\n",
    "nums = [5,7,7,8,8,10]\n",
    "target = 6\n",
    "print(searchRange(nums, target))\n",
    "\n",
    "#By using Example 3. Input: nums = [], target = 0\n",
    "nums = []\n",
    "target = 0\n",
    "print(searchRange(nums, target))\n"
   ]
  },
  {
   "cell_type": "code",
   "execution_count": 45,
   "id": "9f0ce52e",
   "metadata": {},
   "outputs": [
    {
     "name": "stdout",
     "output_type": "stream",
     "text": [
      "[2, 2]\n",
      "[9, 4]\n"
     ]
    }
   ],
   "source": [
    "#SOLUTION: 8\n",
    "#The time complexity of this algorithm is O(m + n), where m and n are the lengths of the input arrays. The space complexity is O(min(m, n)), which is the size of the smaller input array.\n",
    "\n",
    "#CODE:\n",
    "\n",
    "def intersect(nums1, nums2):\n",
    "    counts = {}\n",
    "    for num in nums1:\n",
    "        if num in counts:\n",
    "            counts[num] += 1\n",
    "        else:\n",
    "            counts[num] = 1\n",
    "    result = []\n",
    "    for num in nums2:\n",
    "        if num in counts and counts[num] > 0:\n",
    "            result.append(num)\n",
    "            counts[num] -= 1\n",
    "    return result\n",
    "\n",
    "#By using Example 1. Input: nums1 = [1,2,2,1], nums2 = [2,2]\n",
    "nums1 = [1,2,2,1]\n",
    "nums2 = [2,2]\n",
    "print(intersect(nums1, nums2))\n",
    "\n",
    "#By using Example 2. Input: nums1 = [4,9,5], nums2 = [9,4,9,8,4]\n",
    "nums1 = [4,9,5]\n",
    "nums2 = [9,4,9,8,4]\n",
    "print(intersect(nums1, nums2))\n"
   ]
  }
 ],
 "metadata": {
  "kernelspec": {
   "display_name": "Python 3 (ipykernel)",
   "language": "python",
   "name": "python3"
  },
  "language_info": {
   "codemirror_mode": {
    "name": "ipython",
    "version": 3
   },
   "file_extension": ".py",
   "mimetype": "text/x-python",
   "name": "python",
   "nbconvert_exporter": "python",
   "pygments_lexer": "ipython3",
   "version": "3.9.13"
  }
 },
 "nbformat": 4,
 "nbformat_minor": 5
}
