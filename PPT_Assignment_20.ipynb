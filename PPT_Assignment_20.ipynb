{
 "cells": [
  {
   "cell_type": "code",
   "execution_count": 5,
   "id": "eafeab06",
   "metadata": {},
   "outputs": [
    {
     "name": "stdout",
     "output_type": "stream",
     "text": [
      "from Example-1, the largest subtree sum is:  28\n",
      " \n",
      "from Example-2, the largest subtree sum is:  7\n"
     ]
    }
   ],
   "source": [
    "# SOLUTION: 1\n",
    "# The time complexity of this algorithm is O(n), where n is the number of nodes in the binary tree. This is because we visit each node exactly once. The space complexity of this algorithm is O(h), where h is the height of the binary tree. This is because the maximum number of function calls on the call stack at any given time is equal to the height of the binary tree.\n",
    "\n",
    "# CODE:\n",
    "\n",
    "class Node:\n",
    "    def __init__(self, val):\n",
    "        self.val = val\n",
    "        self.left = None\n",
    "        self.right = None\n",
    "\n",
    "def maxSubtreeSum(root):\n",
    "    if root is None:\n",
    "        return 0\n",
    "    \n",
    "    leftSum = maxSubtreeSum(root.left)\n",
    "    rightSum = maxSubtreeSum(root.right)\n",
    "    \n",
    "    subtreeSum = leftSum + rightSum + root.val\n",
    "    \n",
    "    global maxSum\n",
    "    maxSum = max(maxSum, subtreeSum)\n",
    "    \n",
    "    return subtreeSum\n",
    "\n",
    "# example usage:\n",
    "# example 1:\n",
    "maxSum = float('-inf')\n",
    "root = Node(1)\n",
    "root.left = Node(2)\n",
    "root.right = Node(3)\n",
    "root.left.left = Node(4)\n",
    "root.left.right = Node(5)\n",
    "root.right.left = Node(6)\n",
    "root.right.right = Node(7)\n",
    "\n",
    "maxSubtreeSum(root)\n",
    "print(\"from Example-1, the largest subtree sum is: \", maxSum)\n",
    "\n",
    "print(\" \")\n",
    "\n",
    "maxSum = float('-inf')\n",
    "root = Node(1)\n",
    "root.left = Node(-2)\n",
    "root.right = Node(3)\n",
    "root.left.left = Node(4)\n",
    "root.left.right = Node(5)\n",
    "root.right.left = Node(-6)\n",
    "root.right.right = Node(2)\n",
    "\n",
    "maxSubtreeSum(root)\n",
    "print(\"from Example-2, the largest subtree sum is: \", maxSum)\n"
   ]
  },
  {
   "cell_type": "code",
   "execution_count": 10,
   "id": "15dd8049",
   "metadata": {},
   "outputs": [
    {
     "name": "stdout",
     "output_type": "stream",
     "text": [
      "1 3 4 5 6 7 8 10 12 "
     ]
    }
   ],
   "source": [
    "# SOLUTION: 2\n",
    "# The time complexity of this algorithm (using recursion) is O(nlogn) in the average case and O(n^2) in the worst case when the tree is skewed. The space complexity of this algorithm is O(n) for the function call stack.\n",
    "\n",
    "# CODE:\n",
    "\n",
    "class Node:\n",
    "    def __init__(self, data):\n",
    "        self.data = data\n",
    "        self.left = None\n",
    "        self.right = None\n",
    "\n",
    "def constructBst(arr):\n",
    "    if not arr:\n",
    "        return None\n",
    "\n",
    "    mid = len(arr) // 2\n",
    "    root = Node(arr[mid])\n",
    "    root.left = constructBst(arr[:mid])\n",
    "    root.right = constructBst(arr[mid+1:])\n",
    "\n",
    "    return root\n",
    "\n",
    "def inorderTraversal(root):\n",
    "    if root is not None:\n",
    "        inorderTraversal(root.left)\n",
    "        print(root.data,end=\" \")\n",
    "        inorderTraversal(root.right)\n",
    "\n",
    "arr = [7, 4, 12, 3, 6, 8, 1, 5, 10]\n",
    "arr.sort()\n",
    "root = constructBst(arr)\n",
    "inorderTraversal(root)\n"
   ]
  },
  {
   "cell_type": "code",
   "execution_count": 20,
   "id": "2009828e",
   "metadata": {},
   "outputs": [
    {
     "name": "stdout",
     "output_type": "stream",
     "text": [
      "No\n"
     ]
    }
   ],
   "source": [
    "# SOLUTION: 3\n",
    "# The time complexity of this algorithm is O(n) and the space complexity is O(n) as well.\n",
    "\n",
    "# CODE:\n",
    "\n",
    "def canRepresentBST(arr, n):\n",
    "    s = []\n",
    "    root = float('-inf')\n",
    "    for i in range(n):\n",
    "        if arr[i] < root:\n",
    "            return False\n",
    "        while s and s[-1] < arr[i]:\n",
    "            root = s[-1]\n",
    "            s.pop()\n",
    "        s.append(arr[i])\n",
    "    return True\n",
    "\n",
    "arr = [11, 6, 13, 5, 12, 10]\n",
    "n = len(arr)\n",
    "\n",
    "if canRepresentBST(arr, n):\n",
    "    print(\"Yes\")\n",
    "else:\n",
    "    print(\"No\")\n"
   ]
  }
 ],
 "metadata": {
  "kernelspec": {
   "display_name": "Python 3 (ipykernel)",
   "language": "python",
   "name": "python3"
  },
  "language_info": {
   "codemirror_mode": {
    "name": "ipython",
    "version": 3
   },
   "file_extension": ".py",
   "mimetype": "text/x-python",
   "name": "python",
   "nbconvert_exporter": "python",
   "pygments_lexer": "ipython3",
   "version": "3.9.13"
  }
 },
 "nbformat": 4,
 "nbformat_minor": 5
}
