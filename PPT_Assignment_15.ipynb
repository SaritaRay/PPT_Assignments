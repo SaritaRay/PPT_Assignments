{
 "cells": [
  {
   "cell_type": "code",
   "execution_count": 3,
   "id": "35b3b1a3",
   "metadata": {},
   "outputs": [
    {
     "name": "stdout",
     "output_type": "stream",
     "text": [
      "Example 1. Output: [3, 4, 4, -1]\n",
      " \n",
      "Example 2. Output: [8, -1, 1, 3, -1]\n"
     ]
    }
   ],
   "source": [
    "# SOLUTION: 1\n",
    "# The time complexity of this algorithm is O(n) because we are traversing the array only once. The space complexity of this algorithm is O(n) because we are using a stack to store the indices of the elements in the array .\n",
    "\n",
    "# CODE:\n",
    "\n",
    "def nextGreaterElement(arr):\n",
    "    stack = []\n",
    "    result = [-1] * len(arr)\n",
    "    for i in range(len(arr)):\n",
    "        while stack and arr[i] > arr[stack[-1]]:\n",
    "            result[stack.pop()] = arr[i]\n",
    "        stack.append(i)\n",
    "    return result\n",
    "\n",
    "# Example usage:\n",
    "# Example 1:\n",
    "arr = [1, 3, 2, 4]\n",
    "print(\"Example 1. Output:\", nextGreaterElement(arr))\n",
    "\n",
    "print(\" \")\n",
    "\n",
    "# Example 2:\n",
    "arr = [6, 8, 0, 1, 3]\n",
    "print(\"Example 2. Output:\", nextGreaterElement(arr))\n"
   ]
  },
  {
   "cell_type": "code",
   "execution_count": 9,
   "id": "cea07039",
   "metadata": {},
   "outputs": [
    {
     "name": "stdout",
     "output_type": "stream",
     "text": [
      "Example 1. Output: [-1, 1, 1]\n",
      " \n",
      "Example 2. Output: [-1, 1, -1, 0, 3, 4]\n"
     ]
    }
   ],
   "source": [
    "# SOLUTION: 2\n",
    "# The time complexity of this algorithm is O(n) because we are traversing the array only once. The space complexity of this algorithm is O(n) because we are using a stack to store the indices of the elements in the array.\n",
    "\n",
    "# CODE:\n",
    "\n",
    "def nearestSmaller(arr):\n",
    "    stack = []\n",
    "    result = []\n",
    "    for i in range(len(arr)):\n",
    "        while stack and stack[-1] >= arr[i]:\n",
    "            stack.pop()\n",
    "        if not stack:\n",
    "            result.append(-1)\n",
    "        else:\n",
    "            result.append(stack[-1])\n",
    "        stack.append(arr[i])\n",
    "    return result\n",
    "\n",
    "# Example usage:\n",
    "# Example 1:\n",
    "arr = [1, 6, 2]\n",
    "print(\"Example 1. Output:\", nearestSmaller(arr))\n",
    "\n",
    "print(\" \")\n",
    "\n",
    "# Example 2:\n",
    "arr = [1, 5, 0, 3, 4, 5]\n",
    "print(\"Example 2. Output:\", nearestSmaller(arr))\n"
   ]
  },
  {
   "cell_type": "code",
   "execution_count": 8,
   "id": "0deae455",
   "metadata": {},
   "outputs": [
    {
     "name": "stdout",
     "output_type": "stream",
     "text": [
      "Example 1. Output:\n",
      "3\n",
      "4\n",
      " \n",
      "Example 2. Output:\n",
      "2\n",
      "-1\n"
     ]
    }
   ],
   "source": [
    "# SOLUTION: 3\n",
    "# The time complexity of the push operation is O(n) because we are traversing the queue once. The time complexity of the pop operation is O(1) because we are just returning the front element of the queue. The space complexity of this algorithm is O(n) because we are using two queues to implement the stack.\n",
    "\n",
    "# CODE:\n",
    "\n",
    "from queue import Queue\n",
    "\n",
    "class Stack:\n",
    "    def __init__(self):\n",
    "        self.q1 = Queue()\n",
    "        self.q2 = Queue()\n",
    "        self.current_size = 0\n",
    "\n",
    "    def push(self, x):\n",
    "        self.current_size += 1\n",
    "        self.q2.put(x)\n",
    "        while (not self.q1.empty()):\n",
    "            self.q2.put(self.q1.queue[0])\n",
    "            self.q1.get()\n",
    "        self.q = self.q1\n",
    "        self.q1 = self.q2\n",
    "        self.q2 = self.q\n",
    "\n",
    "    def pop(self):\n",
    "        if (self.q1.empty()):\n",
    "            return -1\n",
    "        self.current_size -= 1\n",
    "        return self.q1.get()\n",
    "\n",
    "# Example usage:\n",
    "# Example 1:\n",
    "print(\"Example 1. Output:\")\n",
    "stack = Stack()\n",
    "stack.push(2)\n",
    "stack.push(3)\n",
    "print(stack.pop())\n",
    "stack.push(4)\n",
    "print(stack.pop())\n",
    "\n",
    "print(\" \")\n",
    "\n",
    "# Example 2:\n",
    "print(\"Example 2. Output:\")\n",
    "stack = Stack()\n",
    "stack.push(2)\n",
    "print(stack.pop())\n",
    "print(stack.pop())\n",
    "stack.push(3)\n"
   ]
  },
  {
   "cell_type": "code",
   "execution_count": 11,
   "id": "29a5f61d",
   "metadata": {},
   "outputs": [
    {
     "name": "stdout",
     "output_type": "stream",
     "text": [
      "Example 1. Output: [6, 7, 1, 2, 3]\n",
      " \n",
      "Example 2. Output: [6, 9, 3, 4]\n"
     ]
    }
   ],
   "source": [
    "# SOLUTION: 4\n",
    "# The time complexity of this algorithm is O(n^2) because we are using recursion to traverse the stack. The space complexity of this algorithm is O(n) because we are using the call stack to store the recursive calls.\n",
    "\n",
    "# CODE:\n",
    "\n",
    "def insertAtBottom(stack, item):\n",
    "    if len(stack) == 0:\n",
    "        stack.append(item)\n",
    "    else:\n",
    "        temp = stack.pop()\n",
    "        insertAtBottom(stack, item)\n",
    "        stack.append(temp)\n",
    "\n",
    "def reverseStack(stack):\n",
    "    if len(stack) > 0:\n",
    "        temp = stack.pop()\n",
    "        reverseStack(stack)\n",
    "        insertAtBottom(stack, temp)\n",
    "\n",
    "# Example usage:\n",
    "# Example 1:\n",
    "stack = [3, 2, 1, 7, 6]\n",
    "reverseStack(stack)\n",
    "print(\"Example 1. Output:\", stack)\n",
    "\n",
    "print(\" \")\n",
    "\n",
    "# Example 2:\n",
    "stack = [4, 3, 9, 6]\n",
    "reverseStack(stack)\n",
    "print(\"Example 2. Output:\", stack)\n"
   ]
  },
  {
   "cell_type": "code",
   "execution_count": 19,
   "id": "fd0050b6",
   "metadata": {},
   "outputs": [
    {
     "name": "stdout",
     "output_type": "stream",
     "text": [
      "The reversed string of 'GeeksforGeeks' is: skeeGrofskeeG\n"
     ]
    }
   ],
   "source": [
    "# SOLUTION: 5\n",
    "# The time complexity of this algorithm is O(n) because we are iterating over the string once. The space complexity of this algorithm is O(n) because we are using a stack to store the characters in the string.\n",
    "\n",
    "# CODE:\n",
    "\n",
    "def reverseString(string):\n",
    "    stack = []\n",
    "    for char in string:\n",
    "        stack.append(char)\n",
    "    reversedString = \"\"\n",
    "    while len(stack) > 0:\n",
    "        reversedString += stack.pop()\n",
    "    return reversedString\n",
    "\n",
    "string = \"GeeksforGeeks\"\n",
    "print(\"The reversed string of 'GeeksforGeeks' is:\", reverseString(string))\n"
   ]
  },
  {
   "cell_type": "code",
   "execution_count": 26,
   "id": "8641fa86",
   "metadata": {},
   "outputs": [
    {
     "name": "stdout",
     "output_type": "stream",
     "text": [
      "After solving the given expression in Example-1, we have -4 as result\n",
      " \n",
      "After solving the given expression in Example-2, we have -3 as result\n"
     ]
    }
   ],
   "source": [
    "# SOLUTION: 6\n",
    "# The time complexity of this algorithm is O(n) since we are traversing the expression once, which costs O(n) time. The space complexity is O(n) since the maximum number of elements in our stack can reach up to O(n) in the worst case\n",
    "\n",
    "# CODE:\n",
    "\n",
    "# solving example 1:\n",
    "S = \"231*+9-\"\n",
    "stack = []\n",
    "for i in S:\n",
    "    if i.isdigit():\n",
    "        stack.append(i)\n",
    "    else:\n",
    "        op2 = int(stack.pop())\n",
    "        op1 = int(stack.pop())\n",
    "        if i == '+':\n",
    "            stack.append(op1 + op2)\n",
    "        elif i == '-':\n",
    "            stack.append(op1 - op2)\n",
    "        elif i == '*':\n",
    "            stack.append(op1 * op2)\n",
    "        elif i == '/':\n",
    "            stack.append(op1 / op2)\n",
    "print(\"After solving the given expression in Example-1, we have\", stack[-1], \"as result\")\n",
    "\n",
    "print(\" \")\n",
    "\n",
    "# solving example 2:\n",
    "S = \"123+*8-\"\n",
    "stack = []\n",
    "for i in S:\n",
    "    if i.isdigit():\n",
    "        stack.append(i)\n",
    "    else:\n",
    "        op2 = int(stack.pop())\n",
    "        op1 = int(stack.pop())\n",
    "        if i == '+':\n",
    "            stack.append(op1 + op2)\n",
    "        elif i == '-':\n",
    "            stack.append(op1 - op2)\n",
    "        elif i == '*':\n",
    "            stack.append(op1 * op2)\n",
    "        elif i == '/':\n",
    "            stack.append(op1 / op2)\n",
    "print(\"After solving the given expression in Example-2, we have\", stack[-1], \"as result\")\n"
   ]
  },
  {
   "cell_type": "code",
   "execution_count": 35,
   "id": "35e1a066",
   "metadata": {},
   "outputs": [
    {
     "name": "stdout",
     "output_type": "stream",
     "text": [
      "Output of the given example is:\n",
      "-3\n",
      "0\n",
      "-2\n"
     ]
    }
   ],
   "source": [
    "# SOLUTION: 7\n",
    "# The time complexity of this algorithm is O(1) and the space complexity is O(n). \n",
    "\n",
    "# CODE:\n",
    "\n",
    "class MinStack:\n",
    "    def __init__(self):\n",
    "        self.stack = []\n",
    "        self.min_stack = []\n",
    "\n",
    "    def push(self, val: int) -> None:\n",
    "        self.stack.append(val)\n",
    "        if not self.min_stack or val <= self.min_stack[-1]:\n",
    "            self.min_stack.append(val)\n",
    "\n",
    "    def pop(self) -> None:\n",
    "        if self.stack.pop() == self.min_stack[-1]:\n",
    "            self.min_stack.pop()\n",
    "\n",
    "    def top(self) -> int:\n",
    "        return self.stack[-1]\n",
    "\n",
    "    def getMin(self) -> int:\n",
    "        return self.min_stack[-1]\n",
    "\n",
    "# Example usage:\n",
    "print(\"Output of the given example is:\")\n",
    "stack = MinStack()\n",
    "stack.push(-2)\n",
    "stack.push(0)\n",
    "stack.push(-3)\n",
    "print(stack.getMin())\n",
    "stack.pop()\n",
    "print(stack.top())\n",
    "print(stack.getMin())\n"
   ]
  },
  {
   "cell_type": "code",
   "execution_count": 51,
   "id": "45b60ddf",
   "metadata": {},
   "outputs": [
    {
     "name": "stdout",
     "output_type": "stream",
     "text": [
      "Example 1. Output:\n",
      "6\n",
      " \n",
      "Example 2. Output:\n",
      "9\n"
     ]
    }
   ],
   "source": [
    "# SOLUTION: 8\n",
    "# The time complexity of this algorithm is O(n) and the space complexity is O(n). \n",
    "\n",
    "# CODE:\n",
    "\n",
    "def trap(height):\n",
    "    n = len(height)\n",
    "    left_max = [0] * n\n",
    "    right_max = [0] * n\n",
    "    left_max[0] = height[0]\n",
    "    for i in range(1, n):\n",
    "        left_max[i] = max(left_max[i - 1], height[i])\n",
    "    right_max[n - 1] = height[n - 1]\n",
    "    for i in range(n - 2, -1, -1):\n",
    "        right_max[i] = max(right_max[i + 1], height[i])\n",
    "    ans = 0\n",
    "    for i in range(n):\n",
    "        ans += min(left_max[i], right_max[i]) - height[i]\n",
    "    return ans\n",
    "\n",
    "# Example usage:\n",
    "# Example 1:\n",
    "height = [0,1,0,2,1,0,1,3,2,1,2,1]\n",
    "print(\"Example 1. Output:\")\n",
    "print(trap(height))\n",
    "\n",
    "print(\" \")\n",
    "\n",
    "# Example 2:\n",
    "height = [4,2,0,3,2,5]\n",
    "print(\"Example 2. Output:\")\n",
    "print(trap(height))\n"
   ]
  }
 ],
 "metadata": {
  "kernelspec": {
   "display_name": "Python 3 (ipykernel)",
   "language": "python",
   "name": "python3"
  },
  "language_info": {
   "codemirror_mode": {
    "name": "ipython",
    "version": 3
   },
   "file_extension": ".py",
   "mimetype": "text/x-python",
   "name": "python",
   "nbconvert_exporter": "python",
   "pygments_lexer": "ipython3",
   "version": "3.9.13"
  }
 },
 "nbformat": 4,
 "nbformat_minor": 5
}
