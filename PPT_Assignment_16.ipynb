{
 "cells": [
  {
   "cell_type": "code",
   "execution_count": 4,
   "id": "0119cea2",
   "metadata": {},
   "outputs": [
    {
     "name": "stdout",
     "output_type": "stream",
     "text": [
      "output of example_1 is:  [-1, -1, 1, 2, 2, 1, -1]\n",
      " \n",
      "output of example_2 is:  [2, 2, 2, -1, -1, -1, -1, 3, -1, -1]\n"
     ]
    }
   ],
   "source": [
    "# SOLUTION: 1\n",
    "# The time complexity of this algorithm is O(n), where n is the size of the input array. The space complexity of this algorithm is also O(n), where n is the size of the input array.\n",
    "\n",
    "# CODE:\n",
    "\n",
    "def solve(a):\n",
    "    n = len(a)\n",
    "    ans = [-1] * n\n",
    "    mp = {}\n",
    "    for i in range(n):\n",
    "        if a[i] not in mp:\n",
    "            mp[a[i]] = 0\n",
    "        mp[a[i]] += 1\n",
    "    s = []\n",
    "    s.append(n - 1)\n",
    "    for i in range(n - 2, -1, -1):\n",
    "        while len(s) > 0 and mp[a[s[-1]]] <= mp[a[i]]:\n",
    "            s.pop()\n",
    "        if len(s) == 0:\n",
    "            ans[i] = -1\n",
    "        else:\n",
    "            ans[i] = a[s[-1]]\n",
    "        s.append(i)\n",
    "    return ans\n",
    "\n",
    "# example usage:\n",
    "# example 1:\n",
    "a = [1, 1, 2, 3, 4, 2, 1]\n",
    "print(\"output of example_1 is: \", solve(a))\n",
    "\n",
    "print(\" \")\n",
    "\n",
    "# example 2:\n",
    "a = [1, 1, 1, 2, 2, 2, 2, 11, 3, 3]\n",
    "print(\"output of example_2 is: \", solve(a))\n"
   ]
  },
  {
   "cell_type": "code",
   "execution_count": 11,
   "id": "6d00ffa8",
   "metadata": {},
   "outputs": [
    {
     "name": "stdout",
     "output_type": "stream",
     "text": [
      "output of example_1 is: [3, 23, 31, 34, 92, 98]\n",
      " \n",
      "output of example_2 is: [1, 2, 3, 4, 5, 8]\n"
     ]
    }
   ],
   "source": [
    "# SOLUTION: 2\n",
    "# The time complexity of this algorithm is O(n^2), where n is the size of the input stack. The space complexity of this algorithm is O(n), where n is the size of the input stack.\n",
    "\n",
    "# CODE:\n",
    "\n",
    "def sort_stack(stack):\n",
    "    output = []\n",
    "    while len(stack) > 0:\n",
    "        temp = stack.pop()\n",
    "        while len(output) > 0 and output[-1] < temp:\n",
    "            stack.append(output.pop())\n",
    "        output.append(temp)\n",
    "    while len(output) > 0:\n",
    "        stack.append(output.pop())\n",
    "    return stack\n",
    "\n",
    "# example usage:\n",
    "# example 1:\n",
    "stack = [34, 3, 31, 98, 92, 23]\n",
    "print(\"output of example_1 is:\", sort_stack(stack))\n",
    "\n",
    "print(\" \")\n",
    "\n",
    "# example 2:\n",
    "stack = [3, 5, 1, 4, 2, 8]\n",
    "print(\"output of example_2 is:\", sort_stack(stack))\n"
   ]
  },
  {
   "cell_type": "code",
   "execution_count": 19,
   "id": "258086fe",
   "metadata": {},
   "outputs": [
    {
     "name": "stdout",
     "output_type": "stream",
     "text": [
      "output of example_1 is:  [1, 2, 4, 5]\n",
      " \n",
      "output of example_1 is:  [1, 2, 4, 5, 6]\n"
     ]
    }
   ],
   "source": [
    "# SOLUTION: 3\n",
    "# The time complexity of this algorithm is O(n), where n is the size of the input stack. The space complexity of this algorithm is O(n), where n is the size of the input stack.\n",
    "\n",
    "# CODE:\n",
    "\n",
    "def delete_middle_element(stack):\n",
    "    n = len(stack)\n",
    "    output = []\n",
    "    for i in range(n // 2):\n",
    "        output.append(stack.pop())\n",
    "    stack.pop()\n",
    "    while len(stack) > 0:\n",
    "        output.append(stack.pop())\n",
    "    while len(output) > 0:\n",
    "        stack.append(output.pop())\n",
    "    return stack\n",
    "\n",
    "# example usage:\n",
    "# example 1:\n",
    "stack = [1, 2, 3, 4, 5]\n",
    "print(\"output of example_1 is: \", delete_middle_element(stack))\n",
    "\n",
    "print(\" \")\n",
    "\n",
    "# example 2:\n",
    "stack = [1, 2, 3, 4, 5, 6]\n",
    "print(\"output of example_1 is: \", delete_middle_element(stack))\n"
   ]
  },
  {
   "cell_type": "code",
   "execution_count": 24,
   "id": "46fb2cd9",
   "metadata": {},
   "outputs": [
    {
     "name": "stdout",
     "output_type": "stream",
     "text": [
      "False\n"
     ]
    }
   ],
   "source": [
    "# SOLUTION: 4\n",
    "\n",
    "# CODE:\n",
    "\n",
    "def check_queue(queue):\n",
    "    n = len(queue)\n",
    "    stack = []\n",
    "    output = []\n",
    "    for i in range(n):\n",
    "        temp = queue.pop(0)\n",
    "        while len(stack) > 0 and temp > stack[-1]:\n",
    "            output.append(stack.pop())\n",
    "        stack.append(temp)\n",
    "    while len(stack) > 0:\n",
    "        output.append(stack.pop())\n",
    "    for i in range(n):\n",
    "        temp = output.pop(0)\n",
    "        if i == 0:\n",
    "            continue\n",
    "        if temp < output[0]:\n",
    "            return False\n",
    "        queue.append(temp)\n",
    "    return True\n",
    "\n",
    "queue = [5, 1, 2, 3, 4]\n",
    "print(check_queue(queue))\n"
   ]
  },
  {
   "cell_type": "code",
   "execution_count": 36,
   "id": "1ac9a5cd",
   "metadata": {},
   "outputs": [
    {
     "name": "stdout",
     "output_type": "stream",
     "text": [
      "The reverse of '365' is:  563\n",
      " \n",
      "The reverse of '6899' is:  9986\n"
     ]
    }
   ],
   "source": [
    "# SOLUTION: 5\n",
    "# The time complexity of this algorithm is O(n) because we are iterating over each digit of the number once. The space complexity is also O(n) because we are using a stack to store the digits of the number.\n",
    "\n",
    "# CODE:\n",
    "\n",
    "def reverse_number_using_stack(number):\n",
    "    stack = []\n",
    "    while number > 0:\n",
    "        stack.append(number % 10)\n",
    "        number //= 10\n",
    "\n",
    "    reversed_number = 0\n",
    "    power = 1\n",
    "    while stack:\n",
    "        reversed_number += stack.pop() * power\n",
    "        power *= 10\n",
    "\n",
    "    return reversed_number\n",
    "\n",
    "# example usage:\n",
    "print(\"The reverse of '365' is: \", reverse_number_using_stack(365))\n",
    "\n",
    "print(\" \")\n",
    "\n",
    "print(\"The reverse of '6899' is: \", reverse_number_using_stack(6899))\n"
   ]
  },
  {
   "cell_type": "code",
   "execution_count": 48,
   "id": "a6738827",
   "metadata": {},
   "outputs": [
    {
     "name": "stdout",
     "output_type": "stream",
     "text": [
      "50 40 30 20 10 60 70 80 90 100 "
     ]
    }
   ],
   "source": [
    "# SOLUTION: 6\n",
    "# The time complexity of this algorithm is O(n), where 'n' is the number of elements in the queue. This is because we are iterating over each element in the queue twice: once when we push the first k elements onto the stack, and again when we pop them off the stack and push them back onto the queue. The space complexity of the algorithm is O(k), where k is the number of elements we are reversing. This is because we are using a stack to store the first k elements of the queue.\n",
    "\n",
    "# CODE:\n",
    "\n",
    "from collections import deque\n",
    "\n",
    "def reverse_first_k(q, k):\n",
    "    solve(q, k)\n",
    "    s = len(q) - k\n",
    "    for _ in range(s):\n",
    "        x = q.popleft()\n",
    "        q.append(x)\n",
    "    return q\n",
    "\n",
    "def solve(q, k):\n",
    "    if k == 0:\n",
    "        return\n",
    "    e = q.popleft()\n",
    "    solve(q, k - 1)\n",
    "    q.append(e)\n",
    "\n",
    "# Driver code\n",
    "queue = deque([10, 20, 30, 40, 50, 60, 70, 80, 90, 100])\n",
    "k = 5\n",
    "queue = reverse_first_k(queue, k)\n",
    "\n",
    "# Printing queue\n",
    "while queue:\n",
    "    print(queue.popleft(), end=' ')\n"
   ]
  },
  {
   "cell_type": "code",
   "execution_count": 51,
   "id": "2d86a750",
   "metadata": {},
   "outputs": [
    {
     "name": "stdout",
     "output_type": "stream",
     "text": [
      "Output of example_1 is:  3\n",
      " \n",
      "Output of example_2 is:  0\n"
     ]
    }
   ],
   "source": [
    "# SOLUTION: 7\n",
    "# The time complexity of this algorithm is O(n^2) and space complexity is O(n).\n",
    "\n",
    "# CODE:\n",
    "\n",
    "def pairwise_destruction(arr):\n",
    "    i = 0\n",
    "    while i < len(arr) - 1:\n",
    "        if arr[i] == arr[i+1]:\n",
    "            arr.pop(i)\n",
    "            arr.pop(i)\n",
    "            i = max(0, i-1)\n",
    "        else:\n",
    "            i += 1\n",
    "    return len(arr)\n",
    "\n",
    "# example usage:\n",
    "# example 1:\n",
    "arr = [\"ab\", \"aa\", \"aa\", \"bcd\", \"ab\"]\n",
    "print(\"Output of example_1 is: \", pairwise_destruction(arr))\n",
    "\n",
    "print(\" \")\n",
    "\n",
    "# example 2:\n",
    "arr = [\"Tom\", \"Jerry\", \"Jerry\", \"Tom\"]\n",
    "print(\"Output of example_2 is: \", pairwise_destruction(arr))\n"
   ]
  },
  {
   "cell_type": "code",
   "execution_count": 67,
   "id": "b216db0e",
   "metadata": {},
   "outputs": [
    {
     "name": "stdout",
     "output_type": "stream",
     "text": [
      "Maximum Diff : 1\n",
      " \n",
      "Maximum Diff : 4\n",
      " \n",
      "Maximum Diff : 1\n"
     ]
    }
   ],
   "source": [
    "# SOLUTION: 8\n",
    "\n",
    "# CODE:\n",
    "\n",
    "def leftsmaller(arr, n, SE):\n",
    "    sta = []\n",
    "    for i in range(n):\n",
    "        while(sta != [] and sta[len(sta)-1] >= arr[i]):\n",
    "            sta.pop()\n",
    "\n",
    "        if(sta != []):\n",
    "            SE[i]=sta[len(sta)-1]\n",
    "        else:\n",
    "            SE[i]=0\n",
    "\n",
    "        sta.append(arr[i])\n",
    "\n",
    "# Function returns maximum difference b/w Left &\n",
    "# right smaller element\n",
    "def findMaxDiff(arr, n):\n",
    "    ls=[0]*n # to store left smaller elements\n",
    "    rs=[0]*n # to store right smaller elements\n",
    "\n",
    "# find left smaller elements of every element\n",
    "    leftsmaller(arr, n, ls)\n",
    "\n",
    "# find right smaller element of every element\n",
    "# by sending reverse of array\n",
    "    leftsmaller(arr[::-1], n, rs)\n",
    "\n",
    "# find maximum absolute difference b/w LS & RRS\n",
    "# In the reversed array right smaller for arr[i] is\n",
    "# stored at RRS[n-i-1]\n",
    "    res = -1\n",
    "    for i in range(n):\n",
    "        res = max(res, abs(ls[i] - rs[n-1-i]))\n",
    "# return maximum difference b/w LS & RRS\n",
    "    return res\n",
    "\n",
    "# example usage:\n",
    "# example 1:\n",
    "if __name__=='__main__':\n",
    "    arr = [2, 1, 8]\n",
    "    print(\"Maximum Diff :\", findMaxDiff(arr, len(arr)))\n",
    "    \n",
    "print(\" \")\n",
    "\n",
    "# example 2:\n",
    "if __name__=='__main__':\n",
    "    arr = [2, 4, 8, 7, 7, 9, 3]\n",
    "    print(\"Maximum Diff :\", findMaxDiff(arr, len(arr)))\n",
    "\n",
    "print(\" \")\n",
    "\n",
    "# example 3:\n",
    "if __name__=='__main__':\n",
    "    arr = [5, 1, 9, 2, 5, 1, 7]\n",
    "    print(\"Maximum Diff :\", findMaxDiff(arr, len(arr)))\n",
    "    "
   ]
  }
 ],
 "metadata": {
  "kernelspec": {
   "display_name": "Python 3 (ipykernel)",
   "language": "python",
   "name": "python3"
  },
  "language_info": {
   "codemirror_mode": {
    "name": "ipython",
    "version": 3
   },
   "file_extension": ".py",
   "mimetype": "text/x-python",
   "name": "python",
   "nbconvert_exporter": "python",
   "pygments_lexer": "ipython3",
   "version": "3.9.13"
  }
 },
 "nbformat": 4,
 "nbformat_minor": 5
}
