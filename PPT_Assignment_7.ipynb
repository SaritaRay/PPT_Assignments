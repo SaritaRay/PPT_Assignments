{
 "cells": [
  {
   "cell_type": "code",
   "execution_count": 10,
   "id": "32407998",
   "metadata": {
    "scrolled": false
   },
   "outputs": [
    {
     "name": "stdout",
     "output_type": "stream",
     "text": [
      "True\n"
     ]
    }
   ],
   "source": [
    "#SOLUTION: 1 \n",
    "#The time complexity of this algorithm is O(n), where n is the length of the input strings and the space complexity of this algorithm is O(k), where k is the number of unique characters in the input strings.\n",
    "\n",
    "#CODE:\n",
    "\n",
    "def isIsomorphic(s: str, t: str) -> bool:\n",
    "    # If the length of the input strings is not equal, return False\n",
    "    if len(s) != len(t):\n",
    "        return False\n",
    "\n",
    "    # Create two dictionaries to store the mapping between characters in s and t\n",
    "    s_to_t = {}\n",
    "    t_to_s = {}\n",
    "\n",
    "    # Iterate through each character in s\n",
    "    for i in range(len(s)):\n",
    "        # If the current character in s is not already in the first dictionary and\n",
    "        # the current character in t is not already in the second dictionary,\n",
    "        # add a new mapping between the two characters\n",
    "        if s[i] not in s_to_t and t[i] not in t_to_s:\n",
    "            s_to_t[s[i]] = t[i]\n",
    "            t_to_s[t[i]] = s[i]\n",
    "        # If the current character in s is already in the first dictionary and its\n",
    "        # corresponding value is not equal to the current character in t, return False\n",
    "        elif s[i] in s_to_t and s_to_t[s[i]] != t[i]:\n",
    "            return False\n",
    "        # If the current character in t is already in the second dictionary and its\n",
    "        # corresponding value is not equal to the current character in s, return False\n",
    "        elif t[i] in t_to_s and t_to_s[t[i]] != s[i]:\n",
    "            return False\n",
    "\n",
    "    # If all characters in s have been mapped to unique characters in t, return True\n",
    "    return True\n",
    "\n",
    "s = \"egg\"\n",
    "t = \"add\"\n",
    "print(isIsomorphic(s, t))\n"
   ]
  },
  {
   "cell_type": "code",
   "execution_count": 16,
   "id": "1447276e",
   "metadata": {},
   "outputs": [
    {
     "name": "stdout",
     "output_type": "stream",
     "text": [
      "True\n"
     ]
    }
   ],
   "source": [
    "#SOLUTION: 2 \n",
    "#The time complexity of this algorithm is O(n), where n is the length of the input string and the space complexity of this algorithm is O(n), because we create a dictionary with mappings for rotationally symmetric digits that has at most 5 key-value pairs. \n",
    "\n",
    "#CODE:\n",
    "\n",
    "def isStrobogrammatic(num: str) -> bool:\n",
    "    # Create a dictionary with mappings for rotationally symmetric digits\n",
    "    mapping = {\"0\": \"0\", \"1\": \"1\", \"6\": \"9\", \"8\": \"8\", \"9\": \"6\"}\n",
    "\n",
    "    # Initialize pointers at the start and end of the string\n",
    "    left, right = 0, len(num) - 1\n",
    "\n",
    "    # Iterate through each character in the string\n",
    "    while left <= right:\n",
    "        # Check if the current character has a mapping in the dictionary\n",
    "        if num[left] not in mapping or mapping[num[left]] != num[right]:\n",
    "            return False\n",
    "\n",
    "        # Move the pointers towards the center of the string\n",
    "        left += 1\n",
    "        right -= 1\n",
    "\n",
    "    # If all characters have been checked and no inconsistencies have been found,\n",
    "    # it means that the string represents a strobogrammatic number\n",
    "    return True\n",
    "num = \"69\"\n",
    "print(isStrobogrammatic(num))\n"
   ]
  },
  {
   "cell_type": "code",
   "execution_count": 26,
   "id": "73db009c",
   "metadata": {},
   "outputs": [
    {
     "name": "stdout",
     "output_type": "stream",
     "text": [
      "134\n"
     ]
    }
   ],
   "source": [
    "#SOLUTION: 3 \n",
    "#The time complexity of this algorithm is O(n), where n is the length of the longer input string and the space complexity of this algorithm is O(n), because we create a new string to store the result that has at most n + 1 characters (if there is a carry left over from the last step).\n",
    "\n",
    "#CODE:\n",
    "\n",
    "def addStrings(num1: str, num2: str) -> str:\n",
    "    # Initialize pointers at the end of each string\n",
    "    i, j = len(num1) - 1, len(num2) - 1\n",
    "\n",
    "    # Initialize carry to 0 and result string to empty\n",
    "    carry = 0\n",
    "    res = \"\"\n",
    "\n",
    "    # Iterate through each character in both strings\n",
    "    while i >= 0 or j >= 0:\n",
    "        # Convert current character to integer and add any carry from previous step\n",
    "        n1 = int(num1[i]) if i >= 0 else 0\n",
    "        n2 = int(num2[j]) if j >= 0 else 0\n",
    "        curr_sum = n1 + n2 + carry\n",
    "\n",
    "        # If sum is greater than or equal to 10, subtract 10 and set carry to 1\n",
    "        if curr_sum >= 10:\n",
    "            curr_sum -= 10\n",
    "            carry = 1\n",
    "        else:\n",
    "            carry = 0\n",
    "\n",
    "        # Append result to new string and move pointers one step to the left\n",
    "        res += str(curr_sum)\n",
    "        i -= 1\n",
    "        j -= 1\n",
    "\n",
    "    # If there is any carry left over from the last step, append it to the result string\n",
    "    if carry > 0:\n",
    "        res += str(carry)\n",
    "\n",
    "    # Reverse the result string and return it\n",
    "    return res[::-1]\n",
    "\n",
    "num1 = \"11\"\n",
    "num2 = \"123\"\n",
    "print(addStrings(num1, num2))\n"
   ]
  },
  {
   "cell_type": "code",
   "execution_count": 30,
   "id": "9a86d924",
   "metadata": {},
   "outputs": [
    {
     "name": "stdout",
     "output_type": "stream",
     "text": [
      "s'teL ekat edoCteeL tsetnoc\n"
     ]
    }
   ],
   "source": [
    "#SOLUTION: 4 \n",
    "#The time complexity of this algorithm is O(n), where n is the length of the input string and the space complexity of this algorithm is O(n), because we create a new list of words that has at most n elements (if every character in the input string is a whitespace character) and a new string that has at most n characters (if every character in the input string is not a whitespace character). \n",
    "\n",
    "#CODE:\n",
    "\n",
    "def reverseWords(s: str) -> str:\n",
    "    # Split input string into a list of words using whitespace as a delimiter\n",
    "    words = s.split()\n",
    "\n",
    "    # Iterate through each word in the list and reverse its characters\n",
    "    for i in range(len(words)):\n",
    "        words[i] = words[i][::-1]\n",
    "\n",
    "    # Join the list of words back into a string using whitespace as a delimiter\n",
    "    return \" \".join(words)\n",
    "\n",
    "s = \"Let's take LeetCode contest\"\n",
    "print(reverseWords(s))\n"
   ]
  },
  {
   "cell_type": "code",
   "execution_count": 35,
   "id": "78c500eb",
   "metadata": {},
   "outputs": [
    {
     "name": "stdout",
     "output_type": "stream",
     "text": [
      "bacdfeg\n"
     ]
    }
   ],
   "source": [
    "#SOLUTION: 5 \n",
    "#The time complexity of this algorithm is O(n), where n is the length of the input string and the space complexity of this algorithm is O(n), because we create a new list of characters that has at most n elements.\n",
    "\n",
    "#CODE:\n",
    "\n",
    "def reverseStr(s: str, k: int) -> str:\n",
    "    # Convert input string into a list of characters\n",
    "    chars = list(s)\n",
    "\n",
    "    # Iterate through the list by incrementing the index by 2k at each step\n",
    "    for i in range(0, len(chars), 2 * k):\n",
    "        # Reverse the first k characters of each 2k segment\n",
    "        chars[i:i+k] = reversed(chars[i:i+k])\n",
    "\n",
    "    # Join the list of characters back into a string\n",
    "    return \"\".join(chars)\n",
    "\n",
    "s = \"abcdefg\"\n",
    "k = 2\n",
    "print(reverseStr(s, k))\n"
   ]
  },
  {
   "cell_type": "code",
   "execution_count": 43,
   "id": "110f40bb",
   "metadata": {},
   "outputs": [
    {
     "name": "stdout",
     "output_type": "stream",
     "text": [
      "True\n"
     ]
    }
   ],
   "source": [
    "#SOLUTION: 6 \n",
    "#The time complexity of this algorithm is O(n), where n is the length of the input string and the space complexity of this algorithm is O(n),  because we create a new string that has at most twice the length of the input string.\n",
    "\n",
    "#CODE:\n",
    "def rotateString(s: str, goal: str) -> bool:\n",
    "    # Check if the lengths of the two strings are equal\n",
    "    if len(s) != len(goal):\n",
    "        return False\n",
    "\n",
    "    # Concatenate the input string s with itself to form a new string ss\n",
    "    ss = s + s\n",
    "\n",
    "    # Check if the string goal is a substring of ss\n",
    "    return goal in ss\n",
    "\n",
    "s = \"abcde\"\n",
    "goal = \"cdeab\"\n",
    "print(rotateString(s, goal))\n"
   ]
  },
  {
   "cell_type": "code",
   "execution_count": 52,
   "id": "0a62ac4e",
   "metadata": {},
   "outputs": [
    {
     "name": "stdout",
     "output_type": "stream",
     "text": [
      "True\n"
     ]
    }
   ],
   "source": [
    "#SOLUTION: 7 \n",
    "#The time complexity of this algorithm is O(n), where n is the length of the longer input string. and the space complexity of this algorithm is O(n), because we create two stacks that can each have at most n elements. \n",
    "\n",
    "#CODE:\n",
    "\n",
    "def backspaceCompare(s: str, t: str) -> bool:\n",
    "    # Define two empty stacks\n",
    "    s_stack = []\n",
    "    t_stack = []\n",
    "\n",
    "    # Iterate through each character in the input string s\n",
    "    for c in s:\n",
    "        # If the current character is not a backspace character '#', append it to the s_stack list\n",
    "        if c != '#':\n",
    "            s_stack.append(c)\n",
    "        # If the current character is a backspace character '#' and the s_stack list is not empty, remove the last element from the s_stack list\n",
    "        elif len(s_stack) > 0:\n",
    "            s_stack.pop()\n",
    "\n",
    "    # Repeat steps 3-4 for the input string t\n",
    "    for c in t:\n",
    "        if c != '#':\n",
    "            t_stack.append(c)\n",
    "        elif len(t_stack) > 0:\n",
    "            t_stack.pop()\n",
    "\n",
    "    # Compare the two stacks s_stack and t_stack. If they are equal, return True. Otherwise, return False.\n",
    "    return s_stack == t_stack\n",
    "\n",
    "s = \"ab#c\"\n",
    "t = \"ad#c\"\n",
    "print(backspaceCompare(s, t))\n"
   ]
  },
  {
   "cell_type": "code",
   "execution_count": 57,
   "id": "5e9c775d",
   "metadata": {},
   "outputs": [
    {
     "name": "stdout",
     "output_type": "stream",
     "text": [
      "True\n"
     ]
    }
   ],
   "source": [
    "#SOLUTION: 8 \n",
    "#The time complexity of this algorithm is O(n), where n is the length of the input array and the space complexity of this algorithm is O(1) because we only use a constant amount of extra space to store the initial slope and current slope variables.\n",
    "\n",
    "#CODE:\n",
    "\n",
    "def checkStraightLine(coordinates: list[list[int]]) -> bool:\n",
    "    # If the length of the input array is less than or equal to 2, return True\n",
    "    if len(coordinates) <= 2:\n",
    "        return True\n",
    "\n",
    "    # Calculate the slope between the first two points in the input array\n",
    "    x1, y1 = coordinates[0]\n",
    "    x2, y2 = coordinates[1]\n",
    "    initial_slope = (y2 - y1) / (x2 - x1)\n",
    "\n",
    "    # Iterate through each subsequent point in the input array\n",
    "    for i in range(2, len(coordinates)):\n",
    "        # Calculate the slope between the current point and the first point in the input array\n",
    "        x1, y1 = coordinates[0]\n",
    "        x2, y2 = coordinates[i]\n",
    "        current_slope = (y2 - y1) / (x2 - x1)\n",
    "\n",
    "        # If the current slope is not equal to the initial slope, return False\n",
    "        if current_slope != initial_slope:\n",
    "            return False\n",
    "\n",
    "    # If all slopes are equal, return True\n",
    "    return True\n",
    "\n",
    "coordinates = [[1,2],[2,3],[3,4],[4,5],[5,6],[6,7]]\n",
    "print(checkStraightLine(coordinates))\n"
   ]
  }
 ],
 "metadata": {
  "kernelspec": {
   "display_name": "Python 3 (ipykernel)",
   "language": "python",
   "name": "python3"
  },
  "language_info": {
   "codemirror_mode": {
    "name": "ipython",
    "version": 3
   },
   "file_extension": ".py",
   "mimetype": "text/x-python",
   "name": "python",
   "nbconvert_exporter": "python",
   "pygments_lexer": "ipython3",
   "version": "3.9.13"
  }
 },
 "nbformat": 4,
 "nbformat_minor": 5
}
