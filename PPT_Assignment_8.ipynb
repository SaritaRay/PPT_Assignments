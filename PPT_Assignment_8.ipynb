{
 "cells": [
  {
   "cell_type": "code",
   "execution_count": 39,
   "id": "deb86341",
   "metadata": {},
   "outputs": [
    {
     "name": "stdout",
     "output_type": "stream",
     "text": [
      "231\n"
     ]
    }
   ],
   "source": [
    "#SOLUTION: 1\n",
    "#The time complexity of this algorithm is O(m * n) and space complexity is O(m * n).\n",
    "\n",
    "#CODE:\n",
    "\n",
    "def minimum_ascii_delete_sum(s1: str, s2: str) -> int:\n",
    "    m, n = len(s1), len(s2)\n",
    "    dp = [0] * (n + 1)\n",
    "    for j in range(1, n + 1):\n",
    "        dp[j] = dp[j - 1] + ord(s2[j - 1])\n",
    "    for i in range(1, m + 1):\n",
    "        pre = dp[0]\n",
    "        dp[0] += ord(s1[i - 1])\n",
    "        for j in range(1, n + 1):\n",
    "            tmp = dp[j]\n",
    "            if s1[i - 1] == s2[j - 1]:\n",
    "                dp[j] = pre\n",
    "            else:\n",
    "                dp[j] = min(dp[j] + ord(s1[i - 1]), dp[j - 1] + ord(s2[j - 1]))\n",
    "            pre = tmp\n",
    "    return dp[n]\n",
    "\n",
    "s1 = \"sea\"\n",
    "s2 = \"eat\"\n",
    "print(minimum_ascii_delete_sum(s1, s2))\n"
   ]
  },
  {
   "cell_type": "code",
   "execution_count": 18,
   "id": "a0b1827b",
   "metadata": {},
   "outputs": [
    {
     "name": "stdout",
     "output_type": "stream",
     "text": [
      "True\n",
      "True\n",
      "True\n",
      "False\n",
      "False\n"
     ]
    }
   ],
   "source": [
    "#SOLUTION: 2\n",
    "#The time complexity for valid parentheses with * example is O(n) and the space complexity is O(1).\n",
    "\n",
    "#CODE:\n",
    "\n",
    "def is_valid(s: str) -> bool:\n",
    "    stack = []\n",
    "    for c in s:\n",
    "        if c == '(' or c == '*' or len(stack) == 0:\n",
    "            stack.append(c)\n",
    "        elif c == ')' and stack[-1] == '(':\n",
    "            stack.pop()\n",
    "        elif c == ')' and stack[-1] == '*':\n",
    "            stack.pop()\n",
    "            if len(stack) > 0 and stack[-1] == '(':\n",
    "                stack.pop()\n",
    "        else:\n",
    "            return False\n",
    "    while len(stack) > 0:\n",
    "        if stack[-1] == '(' or stack[-1] == '*':\n",
    "            stack.pop()\n",
    "        else:\n",
    "            return False\n",
    "    return True\n",
    "\n",
    "#Test case I:\n",
    "s = ()\n",
    "print(is_valid(s))\n",
    "\n",
    "#Test case II:\n",
    "s = \"*\"\n",
    "print(is_valid(s))\n",
    "\n",
    "#Test case III:\n",
    "s = \"***\"\n",
    "print(is_valid(s))\n",
    "\n",
    "#Test case IV:\n",
    "s = \"ineuron\"\n",
    "print(is_valid(s))\n",
    "\n",
    "#Test case V:\n",
    "s = \"*ineuron*\"\n",
    "print(is_valid(s))\n"
   ]
  },
  {
   "cell_type": "code",
   "execution_count": 24,
   "id": "927c892e",
   "metadata": {},
   "outputs": [
    {
     "name": "stdout",
     "output_type": "stream",
     "text": [
      "2\n"
     ]
    }
   ],
   "source": [
    "#SOLUTION:3\n",
    "#The time complexity of the algorithm O(n^2) where n is the length of the longer string 1. The space complexity of this algorithm is O(n) where n is the length of the longer string.\n",
    "\n",
    "#CODE:\n",
    "\n",
    "def minSteps(word1: str, word2: str) -> int:\n",
    "    m, n = len(word1), len(word2)\n",
    "    dp = [[0] * (n+1) for _ in range(m + 1)]\n",
    "    for i in range(1, m + 1):\n",
    "        for j in range(1, n + 1):\n",
    "            if word1[i - 1] == word2[j - 1]:\n",
    "                dp[i][j] = dp[i - 1][j - 1] + 1\n",
    "            else:\n",
    "                dp[i][j] = max(dp[i - 1][j], dp[i][j - 1])\n",
    "    return m + n - 2 * dp[m][n]\n",
    "\n",
    "word1 = \"sea\"\n",
    "word2 = \"eat\"\n",
    "print(minSteps(word1, word2))\n"
   ]
  },
  {
   "cell_type": "code",
   "execution_count": 36,
   "id": "b1f60f1c",
   "metadata": {},
   "outputs": [
    {
     "name": "stdout",
     "output_type": "stream",
     "text": [
      "4\n",
      "2\n",
      "3\n",
      "1\n",
      "6\n",
      "5\n"
     ]
    }
   ],
   "source": [
    "#SOLUTION: 4\n",
    "#The time complexity of this algorthm is O(n) and space complexity is O(n).\n",
    "\n",
    "#CODE:\n",
    "class TreeNode:\n",
    "    def __init__(self, val=0, left=None, right=None):\n",
    "        self.val = val\n",
    "        self.left = left\n",
    "        self.right = right\n",
    "\n",
    "def str2tree(s: str) -> TreeNode:\n",
    "    if not s:\n",
    "        return None\n",
    "\n",
    "    i = 0\n",
    "    while i < len(s) and (s[i].isdigit() or s[i] == '-'):\n",
    "        i += 1\n",
    "\n",
    "    node = TreeNode(int(s[:i]))\n",
    "    stack = [node]\n",
    "\n",
    "    while i < len(s):\n",
    "        if s[i] == '(':\n",
    "            i += 1\n",
    "            j = i\n",
    "            while j < len(s) and (s[j].isdigit() or s[j] == '-'):\n",
    "                j += 1\n",
    "\n",
    "            child = TreeNode(int(s[i:j]))\n",
    "            if stack[-1].left is None:\n",
    "                stack[-1].left = child\n",
    "            else:\n",
    "                stack[-1].right = child\n",
    "\n",
    "            stack.append(child)\n",
    "            i = j\n",
    "\n",
    "        elif s[i] == ')':\n",
    "            stack.pop()\n",
    "            i += 1\n",
    "\n",
    "        else:\n",
    "            i += 1\n",
    "\n",
    "    return node\n",
    "\n",
    "# Example usage\n",
    "s = \"4(2(3)(1))(6(5))\"\n",
    "root = str2tree(s)\n",
    "\n",
    "def print_tree(node):\n",
    "    if node is None:\n",
    "        return\n",
    "\n",
    "    print(node.val)\n",
    "    print_tree(node.left)\n",
    "    print_tree(node.right)\n",
    "\n",
    "print_tree(root)\n"
   ]
  },
  {
   "cell_type": "code",
   "execution_count": 30,
   "id": "04623f0c",
   "metadata": {},
   "outputs": [
    {
     "name": "stdout",
     "output_type": "stream",
     "text": [
      "6\n",
      "['a', '2', 'b', '2', 'c', '3']\n"
     ]
    }
   ],
   "source": [
    "#SOLUTION: 5\n",
    "#The time complexity of this algorithm is O(n). The space complexity is O(1)\n",
    "\n",
    "#CODE:\n",
    "\n",
    "def compress(chars: list[str]) -> int:\n",
    "    if not chars:\n",
    "        return 0\n",
    "\n",
    "    i = 0\n",
    "    j = 0\n",
    "\n",
    "    while j < len(chars):\n",
    "        count = 1\n",
    "\n",
    "        while j + 1 < len(chars) and chars[j] == chars[j + 1]:\n",
    "            count += 1\n",
    "            j += 1\n",
    "\n",
    "        chars[i] = chars[j]\n",
    "        i += 1\n",
    "\n",
    "        if count > 1:\n",
    "            for c in str(count):\n",
    "                chars[i] = c\n",
    "                i += 1\n",
    "\n",
    "        j += 1\n",
    "\n",
    "    return i\n",
    "\n",
    "# Example usage\n",
    "chars = [\"a\",\"a\",\"b\",\"b\",\"c\",\"c\",\"c\"]\n",
    "new_length = compress(chars)\n",
    "print(new_length)\n",
    "print(chars[:new_length])\n"
   ]
  },
  {
   "cell_type": "code",
   "execution_count": 32,
   "id": "8c6727fe",
   "metadata": {},
   "outputs": [
    {
     "name": "stdout",
     "output_type": "stream",
     "text": [
      "[0, 6]\n"
     ]
    }
   ],
   "source": [
    "#SOLUTION: 6\n",
    "#The time complexity of this algorithm is O(n), where n is the length of the input string s. The space complexity of this algorithm is O(1), because we use a fixed-size array of length 26 to store the frequency map of characters in the pattern string p.\n",
    "\n",
    "#CODE:\n",
    "\n",
    "def findAnagrams(s: str, p: str) -> list[int]:\n",
    "    res = []\n",
    "    if len(s) < len(p):\n",
    "        return res\n",
    "    m = [0] * 26\n",
    "    for c in p:\n",
    "        m[ord(c) - ord('a')] += 1\n",
    "    left = 0\n",
    "    right = 0\n",
    "    count = len(p)\n",
    "    while right < len(s):\n",
    "        if m[ord(s[right]) - ord('a')] >= 1:\n",
    "            count -= 1\n",
    "        m[ord(s[right]) - ord('a')] -= 1\n",
    "        right += 1\n",
    "        if count == 0:\n",
    "            res.append(left)\n",
    "        if right - left == len(p):\n",
    "            if m[ord(s[left]) - ord('a')] >= 0:\n",
    "                count += 1\n",
    "            m[ord(s[left]) - ord('a')] += 1\n",
    "            left += 1\n",
    "    return res\n",
    "\n",
    "s = \"cbaebabacd\"\n",
    "p = \"abc\"\n",
    "print(findAnagrams(s, p))\n"
   ]
  },
  {
   "cell_type": "code",
   "execution_count": 34,
   "id": "25d49b92",
   "metadata": {},
   "outputs": [
    {
     "name": "stdout",
     "output_type": "stream",
     "text": [
      "aaabcbc\n"
     ]
    }
   ],
   "source": [
    "#SOLUTION: 7\n",
    "#The time complexity of this algorithm is O(n), where n is the length of the input string s. The space complexity of this algorithm is O(n), because we use a stack to store intermediate results.\n",
    "\n",
    "#CODE:\n",
    "\n",
    "def decodeString(s: str) -> str:\n",
    "    stack = []\n",
    "    curr_str = ''\n",
    "    curr_num = 0\n",
    "    for c in s:\n",
    "        if c == '[':\n",
    "            stack.append(curr_str)\n",
    "            stack.append(curr_num)\n",
    "            curr_str = ''\n",
    "            curr_num = 0\n",
    "        elif c == ']':\n",
    "            num = stack.pop()\n",
    "            prev_str = stack.pop()\n",
    "            curr_str = prev_str + num * curr_str\n",
    "        elif c.isdigit():\n",
    "            curr_num = curr_num * 10 + int(c)\n",
    "        else:\n",
    "            curr_str += c\n",
    "    return curr_str\n",
    "\n",
    "s = \"3[a]2[bc]\"\n",
    "print(decodeString(s))\n"
   ]
  },
  {
   "cell_type": "code",
   "execution_count": 35,
   "id": "479eafb4",
   "metadata": {},
   "outputs": [
    {
     "name": "stdout",
     "output_type": "stream",
     "text": [
      "True\n"
     ]
    }
   ],
   "source": [
    "#SOLUTION: 8\n",
    "#The time complexity of this algorithm is O(n), where n is the length of the input strings s and goal. The space complexity of this algorithm is O(n), because we use a list to store the differences between s and goal.\n",
    "\n",
    "#CODE:\n",
    "\n",
    "def buddyStrings(s: str, goal: str) -> bool:\n",
    "    if len(s) != len(goal):\n",
    "        return False\n",
    "    if s == goal:\n",
    "        return len(set(s)) < len(s)\n",
    "    diff = [(a, b) for a, b in zip(s, goal) if a != b]\n",
    "    return len(diff) == 2 and diff[0] == diff[1][::-1]\n",
    "\n",
    "s = \"ab\"\n",
    "goal = \"ba\"\n",
    "print(buddyStrings(s, goal))\n"
   ]
  }
 ],
 "metadata": {
  "kernelspec": {
   "display_name": "Python 3 (ipykernel)",
   "language": "python",
   "name": "python3"
  },
  "language_info": {
   "codemirror_mode": {
    "name": "ipython",
    "version": 3
   },
   "file_extension": ".py",
   "mimetype": "text/x-python",
   "name": "python",
   "nbconvert_exporter": "python",
   "pygments_lexer": "ipython3",
   "version": "3.9.13"
  }
 },
 "nbformat": 4,
 "nbformat_minor": 5
}
