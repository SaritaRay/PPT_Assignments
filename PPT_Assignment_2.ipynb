{
  "metadata": {
    "language_info": {
      "codemirror_mode": {
        "name": "python",
        "version": 3
      },
      "file_extension": ".py",
      "mimetype": "text/x-python",
      "name": "python",
      "nbconvert_exporter": "python",
      "pygments_lexer": "ipython3",
      "version": "3.8"
    },
    "kernelspec": {
      "name": "python",
      "display_name": "Python (Pyodide)",
      "language": "python"
    }
  },
  "nbformat_minor": 4,
  "nbformat": 4,
  "cells": [
    {
      "cell_type": "code",
      "source": "#SOLUTION: 1\n#The given type of problem is called \"Array Partition I\". A python code for grouping an integer array is shown below. In this solution the function takes an integer array as input and returns the maximum possible sum of the minimums of each pair. It works by first sorting the array and then grouping every two integers together. The sum of the minimums of each pair will be maximized because the minimums will be as large as possible.\n#the time complexity for the given approach is O(nlogn) and space complexity is O(1).\n\n#CODE:\n\ndef arrayPairSum(nums):\n    nums.sort()\n    return sum(nums[::2])\n\nnums = [1, 4, 3, 2]\nprint(arrayPairSum(nums))",
      "metadata": {
        "trusted": true
      },
      "execution_count": 1,
      "outputs": [
        {
          "name": "stdout",
          "text": "4\n",
          "output_type": "stream"
        }
      ]
    },
    {
      "cell_type": "code",
      "source": "#SOLUTION: 2\n#in the solution code given below the function calculates the maximum number of different types of candies that Alice can eat if she only eats n / 2 of them by first calculating the maximum number of candies that she can eat and then finding the number of unique candy types in the input array.\n#The time complexity for the given approach is O(nlogn) and space complexity is O(n).\n\n#CODE:\n\ndef maxCandies(candyType):\n    n = len(candyType)\n    maxCandies = n // 2\n    uniqueCandies = set(candyType)\n    return min(maxCandies, len(uniqueCandies))\ncandyType = [1, 1, 2, 2, 3, 3]\nprint(maxCandies(candyType))",
      "metadata": {
        "trusted": true
      },
      "execution_count": 2,
      "outputs": [
        {
          "name": "stdout",
          "text": "3\n",
          "output_type": "stream"
        }
      ]
    },
    {
      "cell_type": "code",
      "source": "#SOLUTION: 3\n#The time complexity for the given approach is O(n) and space complexity is O(n).\n\n#CODE:\n\ndef findLHS(nums):\n    \"\"\"\n    :type nums: List[int]\n    :rtype: int\n    \"\"\"\n    count = {}\n    for num in nums:\n        count[num] = count.get(num, 0) + 1\n\n    ans = 0\n    for num in count:\n        if num + 1 in count:\n            ans = max(ans, count[num] + count[num + 1])\n\n    return ans\n\nnums = [1,3,2,2,5,2,3,7]\nprint(findLHS(nums))",
      "metadata": {
        "trusted": true
      },
      "execution_count": 3,
      "outputs": [
        {
          "name": "stdout",
          "text": "5\n",
          "output_type": "stream"
        }
      ]
    },
    {
      "cell_type": "code",
      "source": "#SOLUTION: 4\n##The time complexity for the given approach is O(n) and space complexity is O(1).\n\n#CODE:\n\ndef canPlaceFlowers(flowerbed, n):\n    \"\"\"\n    :type flowerbed: List[int]\n    :type n: int\n    :rtype: bool\n    \"\"\"\n    count = 0\n    i = 0\n    while i < len(flowerbed):\n        if flowerbed[i] == 0 and (i == 0 or flowerbed[i - 1] == 0) and (i == len(flowerbed) - 1 or flowerbed[i + 1] == 0):\n            flowerbed[i] = 1\n            count += 1\n        i += 1\n\n    return count >= n\n\nflowerbed = [1,0,0,0,1]\nn = 1\nprint(canPlaceFlowers(flowerbed, n))",
      "metadata": {
        "trusted": true
      },
      "execution_count": 4,
      "outputs": [
        {
          "name": "stdout",
          "text": "True\n",
          "output_type": "stream"
        }
      ]
    },
    {
      "cell_type": "code",
      "source": "#SOLUTION: 5\n#The time complexity for the given approach is O(n) and space complexity is O(1).\n\n#CODE:\n\ndef maximumProduct(nums):\n    \"\"\"\n    :type nums: List[int]\n    :rtype: int\n    \"\"\"\n    nums.sort()\n    return max(nums[-1] * nums[-2] * nums[-3], nums[0] * nums[1] * nums[-1])\n\nnums = [1,2,3]\nprint(maximumProduct(nums))",
      "metadata": {
        "trusted": true
      },
      "execution_count": 5,
      "outputs": [
        {
          "name": "stdout",
          "text": "6\n",
          "output_type": "stream"
        }
      ]
    },
    {
      "cell_type": "code",
      "source": "#SOLUTION: 6\n#The time complexity for the given approach is O(logn) and space complexity is O(1).\n\n#CODE:\n\ndef search(nums, target):\n    left, right = 0, len(nums) - 1\n    while left <= right:\n        mid = (left + right) // 2\n        if nums[mid] == target:\n            return mid\n        elif nums[mid] < target:\n            left = mid + 1\n        else:\n            right = mid - 1\n    return -1\n\nnums = [-1,0,3,5,9,12]\ntarget = 9\nprint(search(nums, target))",
      "metadata": {
        "trusted": true
      },
      "execution_count": 6,
      "outputs": [
        {
          "name": "stdout",
          "text": "4\n",
          "output_type": "stream"
        }
      ]
    },
    {
      "cell_type": "code",
      "source": "#SOLUTION: 7\n#The time complexity for the given approach is O(n) and space complexity is O(1).\n\n#CODE:\n\ndef isMonotonic(nums):\n    increasing = decreasing = True\n    for i in range(1, len(nums)):\n        if nums[i] > nums[i - 1]:\n            decreasing = False\n        elif nums[i] < nums[i - 1]:\n            increasing = False\n        if not increasing and not decreasing:\n            return False\n    return True\n\nnums = [1,2,2,3]\nprint(isMonotonic(nums))",
      "metadata": {
        "trusted": true
      },
      "execution_count": 7,
      "outputs": [
        {
          "name": "stdout",
          "text": "True\n",
          "output_type": "stream"
        }
      ]
    },
    {
      "cell_type": "code",
      "source": "#SOLUTION: 8\n#The time complexity for the given approach is O(nlogn) and space complexity is O(1).\n\n#CODE:\n\ndef minScore(nums, k):\n    nums.sort()\n    n = len(nums)\n    res = nums[-1] - nums[0]\n    for i in range(n - 1):\n        a, b = nums[i], nums[i + 1]\n        hi, lo = max(a + k, nums[-1] - k), min(b - k, nums[0] + k)\n        res = min(res, hi - lo)\n    return res\n\nnums = [1]\nk = 0\nprint(minScore(nums, k))",
      "metadata": {
        "trusted": true
      },
      "execution_count": 8,
      "outputs": [
        {
          "name": "stdout",
          "text": "0\n",
          "output_type": "stream"
        }
      ]
    }
  ]
}