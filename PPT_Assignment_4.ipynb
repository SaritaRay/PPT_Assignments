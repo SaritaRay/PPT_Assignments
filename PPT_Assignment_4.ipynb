{
  "metadata": {
    "language_info": {
      "codemirror_mode": {
        "name": "python",
        "version": 3
      },
      "file_extension": ".py",
      "mimetype": "text/x-python",
      "name": "python",
      "nbconvert_exporter": "python",
      "pygments_lexer": "ipython3",
      "version": "3.8"
    },
    "kernelspec": {
      "name": "python",
      "display_name": "Python (Pyodide)",
      "language": "python"
    }
  },
  "nbformat_minor": 4,
  "nbformat": 4,
  "cells": [
    {
      "cell_type": "code",
      "source": "#SOLUTION: 1\n#A straightforward approach is to use a hash table. We can use a hash table to count the frequencies of each element in arr1, arr2, and arr3. Then we put the number that appear exactly 3 times to the result array. This is feasible because all of the three arrays are strictly increasing, so the elements will appear at most 3 times in all arrays.\n#The time complexity is O(n), and the space complexity is O(1).\n\n#CODE:\n\ndef arraysIntersection(arr1, arr2, arr3):\n    i = j = k = 0\n    res = []\n    while i < len(arr1) and j < len(arr2) and k < len(arr3):\n        if arr1[i] == arr2[j] == arr3[k]:\n            res.append(arr1[i])\n            i += 1\n            j += 1\n            k +=1\n        elif arr1[i] < arr2[j]:\n            i += 1\n        elif arr2[j] < arr3[k]:\n            j += 1\n        else:\n            k += 1\n    return res\n\narr1 = [1,2,3,4,5]\narr2 = [1,2,5,7,9]\narr3 = [1,3,4,5,8]\nprint(arraysIntersection(arr1,arr2,arr3))",
      "metadata": {
        "trusted": true
      },
      "execution_count": 7,
      "outputs": [
        {
          "name": "stdout",
          "text": "[1, 5]\n",
          "output_type": "stream"
        }
      ]
    },
    {
      "cell_type": "code",
      "source": "#SOLUTION: 2\n#In this solution we use Python’s built-in set data structure to find the difference between two lists. The set() function creates a new set from a list, and the - operator is used to find the difference between two sets. Finally, we convert the resulting sets back into lists using the list() function.\n#The time complexity is O(n), and the space complexity is O(n).\n\n#CODE:\n\ndef find_difference(nums1, nums2):\n    set1 = set(nums1)\n    set2 = set(nums2)\n    return [list(set1 - set2), list(set2 - set1)]\n\nnums1 = [1, 2, 3]\nnums2 = [2, 4, 6]\nprint(find_difference(nums1, nums2))",
      "metadata": {
        "trusted": true
      },
      "execution_count": 12,
      "outputs": [
        {
          "name": "stdout",
          "text": "[[1, 3], [4, 6]]\n",
          "output_type": "stream"
        }
      ]
    },
    {
      "cell_type": "code",
      "source": "#SOLUTION: 3\n# here we are using nested loops to iterate over the matrix and swap the elements.\n#The time complexity is O(nm), and the space complexity is O(nm).\n\n#CODE:\n\ndef transpose(matrix):\n    return [[matrix[j][i] for j in range(len(matrix))] for i in range(len(matrix[0]))]\n\nmatrix = [[1,2,3],[4,5,6],[7,8,9]]\nprint(transpose(matrix))",
      "metadata": {
        "trusted": true
      },
      "execution_count": 15,
      "outputs": [
        {
          "name": "stdout",
          "text": "[[1, 4, 7], [2, 5, 8], [3, 6, 9]]\n",
          "output_type": "stream"
        }
      ]
    },
    {
      "cell_type": "code",
      "source": "#SOLUTION: 4\n#We are using Sorting method to solve this problem.\n#The time complexity is O(nlogn), and the space complexity is O(1).\n\n#CODE:\n\ndef arrayPairSum(nums):\n    nums.sort()\n    return sum(nums[::2])\n\nnums = [1,4,3,2]\nprint(arrayPairSum(nums))",
      "metadata": {
        "trusted": true
      },
      "execution_count": 22,
      "outputs": [
        {
          "name": "stdout",
          "text": "4\n",
          "output_type": "stream"
        }
      ]
    },
    {
      "cell_type": "code",
      "source": "#SOLUTION: 5\n#In this solution we are using binary search. We are using the fact that the sum of the first k natural numbers is given by the formula k(k+1)/2. We are using binary search to find the largest k such that k(k+1)/2 <= n.\n#The time complexity is O(logn), and the space complexity is O(1).\n\n#CODE:\n\ndef arrangeCoins(n):\n    left, right = 0, n\n    while left <= right:\n        mid = (left + right) // 2\n        curr = mid * (mid + 1) // 2\n        if curr == n:\n            return mid\n        elif curr < n:\n            left = mid + 1\n        else:\n            right = mid - 1\n    return right\n\nn = 5\nprint(arrangeCoins(n))",
      "metadata": {
        "trusted": true
      },
      "execution_count": 30,
      "outputs": [
        {
          "name": "stdout",
          "text": "2\n",
          "output_type": "stream"
        }
      ]
    },
    {
      "cell_type": "code",
      "source": "#SOLUTION: 6\n#In this solution we are using a two-pointer approach. We are using two pointers, one at the beginning of the array and one at the end of the array. We are comparing the absolute values of the elements at these two pointers and adding the larger squared value to the result array. We then moving the pointer corresponding to the larger value towards the center of the array. We are repeating this process until we have added all n elements to the result array\n#The time complexity is O(n), and the space complexity is O(n).\n\n#CODE:\n\ndef sortedSquares(nums):\n    n = len(nums)\n    result = [0] * n\n    left, right = 0, n - 1\n    for i in range(n - 1, -1, -1):\n        if abs(nums[left]) > abs(nums[right]):\n            result[i] = nums[left] ** 2\n            left += 1\n        else:\n            result[i] = nums[right] ** 2\n            right -= 1\n    return result\n\nnums = [-4,-1,0,3,10]\nprint(sortedSquares(nums))",
      "metadata": {
        "trusted": true
      },
      "execution_count": 32,
      "outputs": [
        {
          "name": "stdout",
          "text": "[0, 1, 9, 16, 100]\n",
          "output_type": "stream"
        }
      ]
    },
    {
      "cell_type": "code",
      "source": "#SOLUTION: 7\n#In this matrix operation we takes an m x n matrix M initialized with all 0’s and an array of operations ops, where ops[i] = [ai, bi] means M[x][y] should be incremented by one for all 0 <= x < ai and 0 <= y < bi, then it (the code in this solution) counts and returns the number of maximum integers in the matrix after performing all the operations. For example, if m = 3, n = 3, and ops = [[2,2],[3,3]], the output will be 4. The maximum integer in M is 2, and there are four of it in M. So return 4.\n#The time complexity is O(n), and the space complexity is O(1).\n\n#CODE:\n\ndef maxCount(m: int, n: int, ops: list[list[int]]) -> int:\n    for op in ops:\n        m = min(m, op[0])\n        n = min(n, op[1])\n    return m * n\n\nm = 3\nn = 3\nops = [[2,2],[3,3]]\n\nprint(maxCount(m, n, ops))",
      "metadata": {
        "trusted": true
      },
      "execution_count": 54,
      "outputs": [
        {
          "name": "stdout",
          "text": "4\n",
          "output_type": "stream"
        }
      ]
    },
    {
      "cell_type": "code",
      "source": "#SOLUTION: 8\n#Here in this solution we are wriiting a code which takes an array nums consisting of 2n elements in the form [x1,x2,...,xn,y1,y2,...,yn] and an integer n. It then returns the array in the form [x1,y1,x2,y2,...,xn,yn].\n#The time complexity is O(n), and the space complexity is O(1).\n\n#CODE:\n\ndef shuffle(nums, n):\n    result = []\n    for i in range(n):\n        result.append(nums[i])\n        result.append(nums[i + n])\n    return result\n\nnums = [2,5,1,3,4,7]\nn = 3\nprint(shuffle(nums, n))",
      "metadata": {
        "trusted": true
      },
      "execution_count": 62,
      "outputs": [
        {
          "name": "stdout",
          "text": "[2, 3, 5, 4, 1, 7]\n",
          "output_type": "stream"
        }
      ]
    }
  ]
}