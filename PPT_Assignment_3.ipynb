{
  "metadata": {
    "language_info": {
      "codemirror_mode": {
        "name": "python",
        "version": 3
      },
      "file_extension": ".py",
      "mimetype": "text/x-python",
      "name": "python",
      "nbconvert_exporter": "python",
      "pygments_lexer": "ipython3",
      "version": "3.8"
    },
    "kernelspec": {
      "name": "python",
      "display_name": "Python (Pyodide)",
      "language": "python"
    }
  },
  "nbformat_minor": 4,
  "nbformat": 4,
  "cells": [
    {
      "cell_type": "code",
      "source": "#SOLUTION: 1\n#For solving this problem we can use two-pointer technique. It sorts the array and then iterates through it. For each element in the array, it sets two pointers at the next element and the last element. It then calculates the sum of these three elements and compares it with the target. If the sum is greater than the target, it decrements the right pointer. If the sum is less than the target, it increments the left pointer. It keeps track of the closest sum it has found so far and returns it at the end.\n#The time complexity and space complexity for this is O(n^2) and O(1) respectively.\n\n#CODE:\n\ndef threeSumClosest(nums, target):\n    nums.sort()\n    closest = nums[0] + nums[1] + nums[2]\n    for i in range(len(nums) - 2):\n        left = i + 1\n        right = len(nums) - 1\n        while left < right:\n            current_sum = nums[i] + nums[left] + nums[right]\n            if current_sum == target:\n                return current_sum\n            if abs(current_sum - target) < abs(closest - target):\n                closest = current_sum\n            if current_sum < target:\n                left += 1\n            else:\n                right -= 1\n    return closest\n\nnums = [-1,2,1,-4]\ntarget = 1\nprint(threeSumClosest(nums, target))",
      "metadata": {
        "trusted": true
      },
      "execution_count": 1,
      "outputs": [
        {
          "name": "stdout",
          "text": "2\n",
          "output_type": "stream"
        }
      ]
    },
    {
      "cell_type": "code",
      "source": "#SOLUTION: 2\n#this question is referring to the 4Sum problem. Given an array nums of n integers and an integer target, we need to find all unique quadruplets in the array which gives the sum of target.\n#The time complexity and space complexity for this is O(n^3) and O(n) respectively.\n\n#CODE:\n\nfrom bisect import bisect_left\n\nclass Solution:\n    def fourSum(nums, target):\n        N = 4\n        quadruplets = []\n        if len(nums) < N:\n            return quadruplets\n        nums = sorted(nums)\n        quadruplet = []\n        top = []\n        for i in range(1, N):\n            top.append(top[i - 1] + nums[-i])\n            def sum_(curr_target, curr_n, lo=0):\n                if curr_n == 0:\n                    if curr_target == 0:\n                        quadruplets.append(quadruplet[:])\n                    return\n                next_n = curr_n - 1\n                max_i = len(nums) - curr_n\n                max_i = bisect_left(nums, curr_target// curr_n, lo, max_i)\n                min_l = bisect_left(nums, curr_target - top[next_n], lo, max_i)\n                for i in range(min_i, max_i + 1):\n                    if i == min_i or nums[i] != nums[i - 1]:\n                        quadruplet.append(nums[i])\n                        next_target = curr_target - nums[i]\n                        sum_(next_target, next_n, i + 1)\n                        quadruplet.pop()\n            sum_(target, N)\n            return quadruplets\n        \ns = Solution()\nnums = [1,0,-1,0,-2,2]\ntarget = 0\nprint(fourSum(nums, target))",
      "metadata": {
        "trusted": true
      },
      "execution_count": 7,
      "outputs": [
        {
          "name": "stdout",
          "text": "[[-2, -1, 1, 2], [-2, 0, 0, 2], [-1, 0, 0, 1]]\n",
          "output_type": "stream"
        }
      ]
    },
    {
      "cell_type": "code",
      "source": "#SOLUTION: 3\n#As we know that the next permutation of an array of integers is the next lexicographically greater permutation of its integer. More formally, if all the permutations of the array are sorted in one container according to their lexicographical order, then the next permutation of that array is the permutation that follows it in the sorted container. If such an arrangement is not possible, the array must be rearranged as the lowest possible order (i.e., sorted in ascending order). To find the next permutation of an array of integers nums we can use the built-in function next_permutation() from itertools module in python coding.\n#The time complexity and space complexity for this is O(n*n!) and O(1) respectively.\n\n#CODE:\n\n\nfrom itertools import permutations\n\ndef next_permutation(nums):\n    nums_len = len(nums)\n    i = nums_len - 2\n    while i >= 0 and nums[i + 1] <= nums[i]:\n        i -= 1\n    if i >= 0:\n        j = nums_len - 1\n        while j >= 0 and nums[j] <= nums[i]:\n            j -= 1\n        nums[i], nums[j] = nums[j], nums[i]\n    left = i + 1\n    right = nums_len - 1\n    while left < right:\n        nums[left], nums[right] = nums[right], nums[left]\n        left += 1\n        right -= 1\n\nnums = [1,2,3]\nnext_permutation(nums)\nprint(nums)",
      "metadata": {
        "trusted": true
      },
      "execution_count": 24,
      "outputs": [
        {
          "name": "stdout",
          "text": "[1, 3, 2]\n",
          "output_type": "stream"
        }
      ]
    },
    {
      "cell_type": "code",
      "source": "#SOLUTION: 4\n#As we can understand the given problem is called the Search Insert Position problem. It can be solved using the Binary Search algorithm.\n#The time complexity and space complexity for this is O(logn) and O(1) respectively.\n\n#CODE:\n\ndef searchInsert(nums, target):\n    left = 0\n    right = len(nums) - 1\n    while left <= right:\n        mid = (left + right) // 2\n        if nums[mid] == target:\n            return mid\n        elif nums[mid] < target:\n            left = mid + 1\n        else:\n            right = mid - 1\n    return left\n\nnums = [1,3,5,6]\ntarget = 5\nprint(searchInsert(nums, target))",
      "metadata": {
        "trusted": true
      },
      "execution_count": 27,
      "outputs": [
        {
          "name": "stdout",
          "text": "2\n",
          "output_type": "stream"
        }
      ]
    },
    {
      "cell_type": "code",
      "source": "#SOLUTION: 5\n#In this problem we can increment the integer array by one by adding 1 to the last element of the array and then checking if there is a carry. If there is a carry, we add 1 to the next element and so on until there is no carry left. If there is still a carry left after the last element, we create a new array with one more element than the original array and set the first element to 1 and return it.\n#The time complexity and space complexity for this is O(n) and O(1) respectively.\n\n#CODE:\n\ndef plusOne(digits):\n    for i in range(len(digits)-1, -1, -1):\n        if digits[i] < 9:\n            digits[i] += 1\n            return digits\n        else:\n            digits[i] = 0\n    return [1] + [0]*len(digits)\ndigits = [1, 2, 3]\nprint(plusOne(digits))",
      "metadata": {
        "trusted": true
      },
      "execution_count": 32,
      "outputs": [
        {
          "name": "stdout",
          "text": "[1, 2, 4]\n",
          "output_type": "stream"
        }
      ]
    },
    {
      "cell_type": "code",
      "source": "#SOLUTION: 6\n#The time complexity and space complexity for this is O(n) and O(1) respectively.\n\n#CODE: We can write the solution code step-by-step as follows:-\n\ndef singleNumber(nums):\n    # Initialize a variable to store the result\n    res = 0\n    # Iterate over the nums array\n    for num in nums:\n        # XOR each element with the result\n        res ^= num\n    # Return the result\n    return res\n\nnums = [2, 2, 1]\nprint(singleNumber(nums))",
      "metadata": {
        "trusted": true
      },
      "execution_count": 40,
      "outputs": [
        {
          "name": "stdout",
          "text": "1\n",
          "output_type": "stream"
        }
      ]
    },
    {
      "cell_type": "code",
      "source": "#SOLUTION: 7\n#The time complexity and space complexity for this is O(n) and O(1) respectively.\n\n#CODE: We can write the solution code step-by-step as follows:-\n\ndef findMissingRanges(nums, lower, upper):\n    # Initialize an empty list to store the missing ranges\n    res = []\n    # Add lower-1 and upper+1 to the nums array to simplify the code\n    nums = [lower - 1] + nums + [upper + 1]\n    # Iterate over the nums array\n    for i in range(len(nums) - 1):\n        # If there is a missing range of length 1, add it to the result as a single number\n        if nums[i + 1] - nums[i] == 2:\n            res.append([nums[i] + 1])\n        # If there is a missing range of length greater than 1, add it to the result as a range\n        elif nums[i + 1] - nums[i] > 2:\n            res.append([nums[i] + 1, nums[i + 1] - 1])\n    return res\nnums = [0, 1, 3, 50, 75]\nlower = 0\nupper = 99\nprint(findMissingRanges(nums, lower, upper))",
      "metadata": {
        "trusted": true
      },
      "execution_count": 47,
      "outputs": [
        {
          "name": "stdout",
          "text": "[[2], [4, 49], [51, 74], [76, 99]]\n",
          "output_type": "stream"
        }
      ]
    },
    {
      "cell_type": "code",
      "source": "#SOLUTION: 8\n#As we can understand about the given problem is that it can be called the Meeting Rooms problem. It can be solved using the Sorting algorithm.\n#The time complexity and space complexity for this is O(nlogn) and O(n) respectively.\n\n#CODE:\n\nclass Interval:\n    def __init__(self, start: int = 0, end: int = 0):\n        self.start = start\n        self.end = end\n\ndef canAttendMeetings(intervals):\n    intervals = [Interval(interval[0], interval[1]) for interval in intervals]\n    intervals.sort(key=lambda x: x.start)\n    for i in range(1, len(intervals)):\n        if intervals[i - 1].end > intervals[i].start:\n            return False\n    return True\n\nintervals = [[0,30],[5,10],[15,20]]\nprint(canAttendMeetings(intervals))",
      "metadata": {
        "trusted": true
      },
      "execution_count": 53,
      "outputs": [
        {
          "name": "stdout",
          "text": "False\n",
          "output_type": "stream"
        }
      ]
    }
  ]
}