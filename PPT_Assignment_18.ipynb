{
 "cells": [
  {
   "cell_type": "code",
   "execution_count": 5,
   "id": "f692d58b",
   "metadata": {},
   "outputs": [
    {
     "name": "stdout",
     "output_type": "stream",
     "text": [
      "from example_1- an Array of the non-overlapping intervals is:  [[1, 6], [8, 10], [15, 18]]\n",
      " \n",
      "from example_2- an Array of the non-overlapping intervals is:  [[1, 5]]\n"
     ]
    }
   ],
   "source": [
    "# SOLUTION: 1\n",
    "# The time complexity of this algorithm is O(nlog(n)) as we need to sort the array. All other operations are less. The space complexity is O(n), because we are storing the merged intervals in a new array and in the worst case scenario there may not be any intervals and we would need to store all elements.\n",
    "\n",
    "# CODE:\n",
    "\n",
    "def merge(intervals):\n",
    "    intervals.sort(key=lambda x: x[0])\n",
    "    merged = []\n",
    "    for interval in intervals:\n",
    "        if not merged or merged[-1][1] < interval[0]:\n",
    "            merged.append(interval)\n",
    "        else:\n",
    "            merged[-1][1] = max(merged[-1][1], interval[1])\n",
    "    return merged\n",
    "\n",
    "# example usage:\n",
    "# example 1:\n",
    "intervals = [[1,3],[2,6],[8,10],[15,18]]\n",
    "merged_intervals = merge(intervals)\n",
    "print(\"from example_1- an Array of the non-overlapping intervals is: \", merged_intervals)\n",
    "\n",
    "print(\" \")\n",
    "\n",
    "# example 2:\n",
    "intervals = [[1,4],[4,5]]\n",
    "merged_intervals = merge(intervals)\n",
    "print(\"from example_2- an Array of the non-overlapping intervals is: \", merged_intervals)\n"
   ]
  },
  {
   "cell_type": "code",
   "execution_count": 16,
   "id": "eed23d8c",
   "metadata": {},
   "outputs": [
    {
     "name": "stdout",
     "output_type": "stream",
     "text": [
      "Output of Example_1 is:  [0, 0, 1, 1, 2, 2]\n",
      " \n",
      "Output of Example_2 is:  [0, 1, 2]\n"
     ]
    }
   ],
   "source": [
    "# SOLUTION: 2\n",
    "# The time complexity of this algorithm is O(n), where n is the length of the input array. This is because we iterate through the array only once. The space complexity of this algorithm is O(1), because we are not using any extra space to store the elements.\n",
    "\n",
    "# CODE:\n",
    "\n",
    "def sortColors(nums):\n",
    "    low = 0\n",
    "    mid = 0\n",
    "    high = len(nums) - 1\n",
    "\n",
    "    while mid <= high:\n",
    "        if nums[mid] == 0:\n",
    "            nums[low], nums[mid] = nums[mid], nums[low]\n",
    "            low += 1\n",
    "            mid += 1\n",
    "        elif nums[mid] == 1:\n",
    "            mid += 1\n",
    "        else:\n",
    "            nums[mid], nums[high] = nums[high], nums[mid]\n",
    "            high -= 1\n",
    "\n",
    "    return nums\n",
    "\n",
    "# example usage:\n",
    "# example 1:\n",
    "nums = [2,0,2,1,1,0]\n",
    "print(\"Output of Example_1 is: \", sortColors(nums))\n",
    "\n",
    "print(\" \")\n",
    "\n",
    "# example 2:\n",
    "nums = [2,0,1]\n",
    "print(\"Output of Example_2 is: \", sortColors(nums))\n"
   ]
  },
  {
   "cell_type": "code",
   "execution_count": 27,
   "id": "54105ed4",
   "metadata": {},
   "outputs": [
    {
     "name": "stdout",
     "output_type": "stream",
     "text": [
      "Output of Example_1 is:  4\n",
      " \n",
      "Output of Example_2 is:  1\n"
     ]
    }
   ],
   "source": [
    "# SOLUTION: 3\n",
    "# The time complexity of this algorithm is O(log n), because we are dividing the search space in half at each step. The space complexity is O(1), because we are not using any extra space to store the elements.\n",
    "\n",
    "# CODE:\n",
    "\n",
    "def isBadVersion(version):\n",
    "    if version >= 4:\n",
    "        return True\n",
    "    else:\n",
    "        return False\n",
    "\n",
    "def firstBadVersion(n):\n",
    "    left = 1\n",
    "    right = n\n",
    "    while left < right:\n",
    "        mid = left + (right - left) // 2\n",
    "        if isBadVersion(mid):\n",
    "            right = mid\n",
    "        else:\n",
    "            left = mid + 1\n",
    "    return left\n",
    "\n",
    "# example usage:\n",
    "# example 1:\n",
    "n = 5\n",
    "print(\"Output of Example_1 is: \", firstBadVersion(n))\n",
    "\n",
    "print(\" \")\n",
    "\n",
    "# example 2:\n",
    "n = 1\n",
    "print(\"Output of Example_2 is: \", firstBadVersion(n))\n"
   ]
  },
  {
   "cell_type": "code",
   "execution_count": 40,
   "id": "7fc9cec0",
   "metadata": {},
   "outputs": [
    {
     "name": "stdout",
     "output_type": "stream",
     "text": [
      "Output of Example_1 is:  3\n",
      " \n",
      "Output of Example_2 is:  0\n"
     ]
    }
   ],
   "source": [
    "# SOLUTION: 4\n",
    "# The time complexity of this algorithm is O(n), which satisfies the requirement of running in linear time. The space complexity is O(n), which satisfies the requirement of using linear extra space.\n",
    "\n",
    "# CODE:\n",
    "\n",
    "def maximumGap(nums):\n",
    "    if len(nums) < 2:\n",
    "        return 0\n",
    "\n",
    "    # Find the minimum and maximum values in the array\n",
    "    min_val = min(nums)\n",
    "    max_val = max(nums)\n",
    "\n",
    "    # Calculate the size of each bucket\n",
    "    bucket_size = max(1, (max_val - min_val) // (len(nums) - 1))\n",
    "\n",
    "    # Calculate the number of buckets\n",
    "    num_buckets = (max_val - min_val) // bucket_size + 1\n",
    "\n",
    "    # Initialize the buckets\n",
    "    buckets = [[float('inf'), float('-inf')] for _ in range(num_buckets)]\n",
    "\n",
    "    # Add each element to its corresponding bucket\n",
    "    for num in nums:\n",
    "        index = (num - min_val) // bucket_size\n",
    "        buckets[index][0] = min(buckets[index][0], num)\n",
    "        buckets[index][1] = max(buckets[index][1], num)\n",
    "\n",
    "    # Calculate the maximum gap between two successive elements in sorted form\n",
    "    max_gap = 0\n",
    "    prev_max = min_val\n",
    "    for i in range(num_buckets):\n",
    "        if buckets[i][0] == float('inf') and buckets[i][1] == float('-inf'):\n",
    "            continue\n",
    "        max_gap = max(max_gap, buckets[i][0] - prev_max)\n",
    "        prev_max = buckets[i][1]\n",
    "\n",
    "    return max_gap\n",
    "\n",
    "# example usage:\n",
    "# example 1:\n",
    "nums = [3, 6, 9, 1]\n",
    "print(\"Output of Example_1 is: \", maximumGap(nums))\n",
    "\n",
    "print(\" \")\n",
    "\n",
    "# example 2:\n",
    "nums = [10]\n",
    "print(\"Output of Example_2 is: \", maximumGap(nums))\n"
   ]
  },
  {
   "cell_type": "code",
   "execution_count": 42,
   "id": "ffb90fda",
   "metadata": {},
   "outputs": [
    {
     "name": "stdout",
     "output_type": "stream",
     "text": [
      "Output of Example_1 is:  True\n",
      " \n",
      "Output of Example_2 is:  False\n",
      " \n",
      "Output of Example_3 is:  True\n"
     ]
    }
   ],
   "source": [
    "# SOLUTION: 5\n",
    "# The time complexity of this algorithm is O(n), where n is the length of the input array. This is because creating a set from an array takes O(n) time and checking the length of the set takes O(1) time. The space complexity of this algorithm is also O(n), because in the worst case scenario where all elements in the input array are unique, the size of the set will be equal to the length of the input array.\n",
    "\n",
    "# CODE:\n",
    "\n",
    "def containsDuplicate(nums):\n",
    "    return len(nums) != len(set(nums))\n",
    "\n",
    "# example usage:\n",
    "print(\"Output of Example_1 is: \", containsDuplicate([1,2,3,1]))\n",
    "print(\" \")\n",
    "print(\"Output of Example_2 is: \", containsDuplicate([1,2,3,4]))\n",
    "print(\" \")\n",
    "print(\"Output of Example_3 is: \", containsDuplicate([1,1,1,3,3,4,3,2,4,2]))\n"
   ]
  },
  {
   "cell_type": "code",
   "execution_count": 50,
   "id": "e4c30364",
   "metadata": {},
   "outputs": [
    {
     "name": "stdout",
     "output_type": "stream",
     "text": [
      "Output of Example_1 is:  2\n",
      " \n",
      "Output of Example_2 is:  4\n",
      " \n",
      "Output of Example_3 is:  2\n"
     ]
    }
   ],
   "source": [
    "# SOLUTION: 6\n",
    "# The time complexity of this algorithm is O(n log n), where n is the number of balloons. This is because we need to sort the balloons by their end position. The space complexity of this algorithm is O(1), because we only use a constant amount of memory to store the variables arrows and curr_end.\n",
    "\n",
    "# CODE:\n",
    "\n",
    "def findMinArrowShots(points):\n",
    "    if not points:\n",
    "        return 0\n",
    "\n",
    "    points.sort(key=lambda x: x[1])\n",
    "    arrows = 1\n",
    "    curr_end = points[0][1]\n",
    "    for start, end in points:\n",
    "        if curr_end < start:\n",
    "            arrows += 1\n",
    "            curr_end = end\n",
    "\n",
    "    return arrows\n",
    "\n",
    "# example usage:\n",
    "print(\"Output of Example_1 is: \", findMinArrowShots([[10,16],[2,8],[1,6],[7,12]]))\n",
    "print(\" \")\n",
    "print(\"Output of Example_2 is: \", findMinArrowShots([[1,2],[3,4],[5,6],[7,8]]))\n",
    "print(\" \")\n",
    "print(\"Output of Example_3 is: \", findMinArrowShots([[1,2],[2,3],[3,4],[4,5]]))\n"
   ]
  },
  {
   "cell_type": "code",
   "execution_count": 54,
   "id": "b4009faa",
   "metadata": {},
   "outputs": [
    {
     "name": "stdout",
     "output_type": "stream",
     "text": [
      "Output of Example_1 is:  4\n",
      " \n",
      "Output of Example_2 is:  4\n",
      " \n",
      "Output of Example_3 is:  1\n"
     ]
    }
   ],
   "source": [
    "# SOLUTION: 7\n",
    "# The time complexity of this algorithm is O(n^2), where n is the length of the input array. This is because we use two nested loops to iterate over all pairs of elements in the array. The space complexity of this algorithm is O(n), where n is the length of the input array. This is because we use an array dp of size n to store the length of the longest increasing subsequence ending at each position in the input array.\n",
    "\n",
    "# CODE:\n",
    "\n",
    "def lengthOfLIS(nums):\n",
    "    n = len(nums)\n",
    "    dp = [1] * n\n",
    "    for i in range(1, n):\n",
    "        for j in range(i):\n",
    "            if nums[i] > nums[j]:\n",
    "                dp[i] = max(dp[i], dp[j] + 1)\n",
    "    return max(dp)\n",
    "\n",
    "print(\"Output of Example_1 is: \", lengthOfLIS([10,9,2,5,3,7,101,18]))\n",
    "print(\" \")\n",
    "print(\"Output of Example_2 is: \", lengthOfLIS([0,1,0,3,2,3]))\n",
    "print(\" \")\n",
    "print(\"Output of Example_3 is: \", lengthOfLIS([7,7,7,7,7,7,7]))\n"
   ]
  },
  {
   "cell_type": "code",
   "execution_count": 60,
   "id": "0685d9be",
   "metadata": {},
   "outputs": [
    {
     "name": "stdout",
     "output_type": "stream",
     "text": [
      "Output of Example_1 is:  False\n",
      " \n",
      "Output of Example_2 is:  True\n",
      " \n",
      "Output of Example_3 is:  True\n"
     ]
    }
   ],
   "source": [
    "# SOLUTION: 8\n",
    "# The time complexity of this algorithm is O(n), where n is the length of the input array. The space complexity of this algorithm is O(n), where n is the length of the input array.\n",
    "\n",
    "# CODE:\n",
    "\n",
    "def find132pattern(nums):\n",
    "    n = len(nums)\n",
    "    stack = []\n",
    "    s3 = float('-inf')\n",
    "    for i in range(n - 1, -1, -1):\n",
    "        if nums[i] < s3:\n",
    "            return True\n",
    "        while stack and stack[-1] < nums[i]:\n",
    "            s3 = stack.pop()\n",
    "        stack.append(nums[i])\n",
    "    return False\n",
    "\n",
    "print(\"Output of Example_1 is: \", find132pattern([1,2,3,4]))\n",
    "print(\" \")\n",
    "print(\"Output of Example_2 is: \", find132pattern([3,1,4,2]))\n",
    "print(\" \")\n",
    "print(\"Output of Example_3 is: \", find132pattern([-1,3,2,0]))\n"
   ]
  }
 ],
 "metadata": {
  "kernelspec": {
   "display_name": "Python 3 (ipykernel)",
   "language": "python",
   "name": "python3"
  },
  "language_info": {
   "codemirror_mode": {
    "name": "ipython",
    "version": 3
   },
   "file_extension": ".py",
   "mimetype": "text/x-python",
   "name": "python",
   "nbconvert_exporter": "python",
   "pygments_lexer": "ipython3",
   "version": "3.9.13"
  }
 },
 "nbformat": 4,
 "nbformat_minor": 5
}
