{
 "cells": [
  {
   "cell_type": "code",
   "execution_count": 10,
   "id": "184966e5",
   "metadata": {},
   "outputs": [
    {
     "name": "stdout",
     "output_type": "stream",
     "text": [
      "True\n",
      "True\n",
      "False\n"
     ]
    }
   ],
   "source": [
    "#Solution: 1\n",
    "#The time complexity of this function is O(log n), where n is the input number. The space complexity is O(1), which means that it uses a constant amount of memory regardless of the size of the input\n",
    "\n",
    "#CODE:\n",
    "\n",
    "def isPowerOfTwo(n: int) -> bool:\n",
    "    if n <= 0:\n",
    "        return False\n",
    "    while n % 2 == 0:\n",
    "        n //= 2\n",
    "    return n == 1\n",
    "\n",
    "#Test case: I\n",
    "print(isPowerOfTwo(1))\n",
    "\n",
    "#Test case: II\n",
    "print(isPowerOfTwo(16))\n",
    "\n",
    "#Test case: III\n",
    "print(isPowerOfTwo(3))\n"
   ]
  },
  {
   "cell_type": "code",
   "execution_count": 9,
   "id": "f1fd6585",
   "metadata": {},
   "outputs": [
    {
     "name": "stdout",
     "output_type": "stream",
     "text": [
      "6\n",
      "15\n"
     ]
    }
   ],
   "source": [
    "#SOLUTION: 2\n",
    "#The time complexity of this function is O(1), which means that it takes a constant amount of time to compute the sum of the first n natural numbers, regardless of the size of n. The space complexity of this function is also O(1), which means that it uses a constant amount of memory regardless of the size of n.\n",
    "\n",
    "#CODE:\n",
    "def sum_of_natural_numbers(n):\n",
    "    return n * (n + 1) // 2\n",
    "\n",
    "#Test case: I\n",
    "print(sum_of_natural_numbers(3))\n",
    "\n",
    "#Test case: II\n",
    "print(sum_of_natural_numbers(5))\n"
   ]
  },
  {
   "cell_type": "code",
   "execution_count": 11,
   "id": "d7e99d7f",
   "metadata": {},
   "outputs": [
    {
     "name": "stdout",
     "output_type": "stream",
     "text": [
      "120\n",
      "24\n"
     ]
    }
   ],
   "source": [
    "#SOLUTION: 3\n",
    "#The time complexity of this function is O(n), which means that the time it takes to compute the factorial of n grows linearly with n. The space complexity of this function is also O(n), which means that it uses a linear amount of memory proportional to the size of n.\n",
    "\n",
    "#CODE:\n",
    "\n",
    "def factorial(n):\n",
    "    if n == 0:\n",
    "        return 1\n",
    "    else:\n",
    "        return n * factorial(n-1)\n",
    "\n",
    "#Test case: I\n",
    "N = 5\n",
    "print(factorial(N))\n",
    "\n",
    "#Test case: II\n",
    "N = 4\n",
    "print(factorial(N))\n"
   ]
  },
  {
   "cell_type": "code",
   "execution_count": 12,
   "id": "ced51f0b",
   "metadata": {},
   "outputs": [
    {
     "name": "stdout",
     "output_type": "stream",
     "text": [
      "25\n",
      "32\n"
     ]
    }
   ],
   "source": [
    "#SOLUTION: 4\n",
    "#The time complexity of this function is O(1), which means that it takes a constant amount of time to compute the exponent of N raised to the power of P, regardless of the values of N and P. The space complexity of this function is also O(1), which means that it uses a constant amount of memory to store the values of N and P.\n",
    "\n",
    "#CODE:\n",
    "\n",
    "def exponent(N, P):\n",
    "    return N ** P\n",
    "\n",
    "#Test case: I\n",
    "N = 5\n",
    "P = 2\n",
    "print(exponent(N, P))\n",
    "\n",
    "#Test case: II\n",
    "N = 2\n",
    "P = 5\n",
    "print(exponent(N, P))\n"
   ]
  },
  {
   "cell_type": "code",
   "execution_count": 13,
   "id": "d3d8fd16",
   "metadata": {},
   "outputs": [
    {
     "name": "stdout",
     "output_type": "stream",
     "text": [
      "8\n",
      "45\n"
     ]
    }
   ],
   "source": [
    "#SOLUTION: 5\n",
    "#The time complexity of this algorithm is O(n), where n is the length of the array. This is because the function needs to compare each element of the array with the maximum element of the rest of the array using recursion. The space complexity of this algorithm is also O(n), where n is the length of the array. \n",
    "\n",
    "#CODE:\n",
    "\n",
    "def max_element(arr):\n",
    "    if len(arr) == 1:\n",
    "        return arr[0]\n",
    "    else:\n",
    "        return max(arr[0], max_element(arr[1:]))\n",
    "\n",
    "#Test case: I\n",
    "arr = [1, 4, 3, -5, -4, 8, 6]\n",
    "print(max_element(arr))\n",
    "\n",
    "#Test case: II\n",
    "arr = [1, 4, 45, 6, 10, -8]\n",
    "print(max_element(arr))\n"
   ]
  },
  {
   "cell_type": "code",
   "execution_count": 14,
   "id": "4267752c",
   "metadata": {},
   "outputs": [
    {
     "name": "stdout",
     "output_type": "stream",
     "text": [
      "6\n",
      "23\n"
     ]
    }
   ],
   "source": [
    "#SOLUTION: 6\n",
    "#The time complexity of this algorithm is O(1), which means that it takes constant time to compute the Nth term of the series. The space complexity of this algorithm is also O(1), which means that it uses a constant amount of memory to compute the Nth term of the series.\n",
    "\n",
    "#CODE:\n",
    "\n",
    "def nth_term(a, d, N):\n",
    "    return a + (N - 1) * d\n",
    "\n",
    "#Test case: I\n",
    "a = 2\n",
    "d = 1\n",
    "N = 5\n",
    "print(nth_term(a, d, N))\n",
    "\n",
    "#Test case: II\n",
    "a = 5\n",
    "d = 2\n",
    "N = 10\n",
    "print(nth_term(a, d, N))\n"
   ]
  },
  {
   "cell_type": "code",
   "execution_count": 28,
   "id": "d1de3df4",
   "metadata": {},
   "outputs": [
    {
     "name": "stdout",
     "output_type": "stream",
     "text": [
      "ABC\n",
      "ACB\n",
      "BAC\n",
      "BCA\n",
      "CAB\n",
      "CBA\n",
      "XY\n",
      "YX\n",
      "[('A', 'B', 'C'), ('A', 'C', 'B'), ('B', 'A', 'C'), ('B', 'C', 'A'), ('C', 'A', 'B'), ('C', 'B', 'A')]\n",
      "[('X', 'Y'), ('Y', 'X')]\n"
     ]
    }
   ],
   "source": [
    "#SOLUTION: 7\n",
    "#The time complexity of these algorithms is O(n!), where n is the length of the input string. The space complexity of these algorithms is also O(n!), because it stores all possible permutations of the input string in memory.\n",
    "#Here are the algorithms:\n",
    "\n",
    "#CODE: I\n",
    "\n",
    "from itertools import permutations\n",
    "\n",
    "def print_all_permutations(s):\n",
    "    for p in permutations(s):\n",
    "        print(''.join(p))\n",
    "\n",
    "s = 'ABC'\n",
    "print_all_permutations(s)\n",
    "\n",
    "s = 'XY'\n",
    "print_all_permutations(s)\n",
    "\n",
    "\n",
    "\n",
    "\n",
    "#CODE: II\n",
    "\n",
    "from itertools import permutations\n",
    "\n",
    "def all_permutations(S):\n",
    "    return list(permutations(S))\n",
    "\n",
    "#Test case: I\n",
    "S = \"ABC\"\n",
    "print(all_permutations(S))\n",
    "\n",
    "#Test case: II\n",
    "S = \"XY\"\n",
    "print(all_permutations(S))\n"
   ]
  },
  {
   "cell_type": "code",
   "execution_count": 20,
   "id": "49bb818e",
   "metadata": {},
   "outputs": [
    {
     "name": "stdout",
     "output_type": "stream",
     "text": [
      "120\n",
      "18\n"
     ]
    }
   ],
   "source": [
    "#SOLUTION: 8\n",
    "#The time complexity of this algorithm is O(n), where n is the length of the input array. This is because it iterates over each element in the array exactly once. The space complexity of this algorithm is O(1), because it only stores a single variable (product) in memory.\n",
    "\n",
    "#CODE:\n",
    "\n",
    "def product_of_array_elements(arr):\n",
    "    product = 1\n",
    "    for i in arr:\n",
    "        product *= i\n",
    "    return product\n",
    "\n",
    "arr = [1, 2, 3, 4, 5]\n",
    "print(product_of_array_elements(arr))\n",
    "\n",
    "arr = [1, 6, 3]\n",
    "print(product_of_array_elements(arr))\n"
   ]
  }
 ],
 "metadata": {
  "kernelspec": {
   "display_name": "Python 3 (ipykernel)",
   "language": "python",
   "name": "python3"
  },
  "language_info": {
   "codemirror_mode": {
    "name": "ipython",
    "version": 3
   },
   "file_extension": ".py",
   "mimetype": "text/x-python",
   "name": "python",
   "nbconvert_exporter": "python",
   "pygments_lexer": "ipython3",
   "version": "3.9.13"
  }
 },
 "nbformat": 4,
 "nbformat_minor": 5
}
