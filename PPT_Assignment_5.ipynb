{
  "metadata": {
    "language_info": {
      "codemirror_mode": {
        "name": "python",
        "version": 3
      },
      "file_extension": ".py",
      "mimetype": "text/x-python",
      "name": "python",
      "nbconvert_exporter": "python",
      "pygments_lexer": "ipython3",
      "version": "3.8"
    },
    "kernelspec": {
      "name": "python",
      "display_name": "Python (Pyodide)",
      "language": "python"
    }
  },
  "nbformat_minor": 4,
  "nbformat": 4,
  "cells": [
    {
      "cell_type": "code",
      "source": "#SOLUTION: 1\n#To create a 2D array with m rows and n columns using all the elements from the original 1D array, we can use the numpy.reshape() function.\n#The time complexity is O(mn), and the space complexity is O(mn).\n\n#CODE:\n\nimport numpy as np\n\ndef vec2matrix(original, m, n):\n    if m * n != len(original):\n        return []\n    return np.reshape(original, (m, n))\n\noriginal = [1, 2, 3, 4]\nm = 2\nn = 2\n\nprint(vec2matrix(original, m, n))",
      "metadata": {
        "trusted": true
      },
      "execution_count": 4,
      "outputs": [
        {
          "name": "stdout",
          "text": "[[1 2]\n [3 4]]\n",
          "output_type": "stream"
        }
      ]
    },
    {
      "cell_type": "code",
      "source": "#SOLUTION: 2\n#In this solution we are using binary search. We are using the fact that the sum of the first k natural numbers is given by the formula k(k+1)/2. We are using binary search to find the largest k such that k(k+1)/2 <= n.\n#The time complexity is O(logn), and the space complexity is O(1).\n\n#CODE:\n\ndef arrangeCoins(n):\n    left, right = 0, n\n    while left <= right:\n        mid = (left + right) // 2\n        curr = mid * (mid + 1) // 2\n        if curr == n:\n            return mid\n        elif curr < n:\n            left = mid + 1\n        else:\n            right = mid - 1\n    return right\n\nn = 5\nprint(arrangeCoins(n))",
      "metadata": {
        "trusted": true
      },
      "execution_count": 1,
      "outputs": [
        {
          "name": "stdout",
          "text": "2\n",
          "output_type": "stream"
        }
      ]
    },
    {
      "cell_type": "code",
      "source": "#SOLUTION: 3\n#In this solution we are using a two-pointer approach. We are using two pointers, one at the beginning of the array and one at the end of the array. We are comparing the absolute values of the elements at these two pointers and adding the larger squared value to the result array. We then moving the pointer corresponding to the larger value towards the center of the array. We are repeating this process until we have added all n elements to the result array\n#The time complexity is O(n), and the space complexity is O(n).\n\n#CODE:\n\ndef sortedSquares(nums):\n    n = len(nums)\n    result = [0] * n\n    left, right = 0, n - 1\n    for i in range(n - 1, -1, -1):\n        if abs(nums[left]) > abs(nums[right]):\n            result[i] = nums[left] ** 2\n            left += 1\n        else:\n            result[i] = nums[right] ** 2\n            right -= 1\n    return result\n\nnums = [-4,-1,0,3,10]\nprint(sortedSquares(nums))",
      "metadata": {
        "trusted": true
      },
      "execution_count": 2,
      "outputs": [
        {
          "name": "stdout",
          "text": "[0, 1, 9, 16, 100]\n",
          "output_type": "stream"
        }
      ]
    },
    {
      "cell_type": "code",
      "source": "#SOLUTION: 4\n#In this solution we use Python’s built-in set data structure to find the difference between two lists. The set() function creates a new set from a list, and the - operator is used to find the difference between two sets. Finally, we convert the resulting sets back into lists using the list() function.\n#The time complexity is O(n), and the space complexity is O(n).\n\n#CODE:\n\ndef find_difference(nums1, nums2):\n    set1 = set(nums1)\n    set2 = set(nums2)\n    return [list(set1 - set2), list(set2 - set1)]\n\nnums1 = [1, 2, 3]\nnums2 = [2, 4, 6]\nprint(find_difference(nums1, nums2))",
      "metadata": {
        "trusted": true
      },
      "execution_count": 3,
      "outputs": [
        {
          "name": "stdout",
          "text": "[[1, 3], [4, 6]]\n",
          "output_type": "stream"
        }
      ]
    },
    {
      "cell_type": "code",
      "source": "#SOLUTION: 5\n#Our approach for this problem is to iterate through each element of arr1 and check if there is any element in arr2 that is within distance d of the current element. If there is no such element in arr2, we increment a counter. Finally, we return the value of the counter.\n#The time complexity is O(n^2), and the space complexity is O(1).\n\n#CODE:\n\ndef find_distance(arr1, arr2, d):\n    count = 0\n    for i in arr1:\n        flag = True\n        for j in arr2:\n            if abs(i-j) <= d:\n                flag = False\n                break\n        if flag:\n            count += 1\n    return count\n\narr1 = [4,5,8]\narr2 = [10,9,1,8]\nd = 2\n\nprint(find_distance(arr1, arr2, d))",
      "metadata": {
        "trusted": true
      },
      "execution_count": 5,
      "outputs": [
        {
          "name": "stdout",
          "text": "2\n",
          "output_type": "stream"
        }
      ]
    },
    {
      "cell_type": "code",
      "source": "#SOLUTION: 6\n#our approach of this problem is to use the array itself as a hash table to keep track of which elements have been encountered before. This allows us to detect duplicates in O(n) time and using only constant extra space.\n#The time complexity is O(n), and the space complexity is O(1).\n\n#CODE:\n\ndef findDuplicates(nums):\n    duplicates = []\n    for num in nums:\n        index = abs(num) - 1\n        if nums[index] < 0:\n            duplicates.append(abs(num))\n        else:\n            nums[index] = -nums[index]\n    for i in range(len(nums)):\n        nums[i] = abs(nums[i])\n    return duplicates\n\nnums = [4,3,2,7,8,2,3,1]\nprint(findDuplicates(nums))",
      "metadata": {
        "trusted": true
      },
      "execution_count": 8,
      "outputs": [
        {
          "name": "stdout",
          "text": "[2, 3]\n",
          "output_type": "stream"
        }
      ]
    },
    {
      "cell_type": "code",
      "source": "#SOLUTION: 7\n#To find the minimum element in a sorted and rotated array of unique elements, we can use a modified binary search algorithm that runs in O(log n) time.\n\"\"\"\nHere’s how it works:\n    1.Initialize two pointers, left and right, to the first and last indices of the array, respectively.\n    2.While left < right, calculate the middle index as (left + right) / 2.\n    3.If nums[mid] > nums[right], then the minimum element must be in the right half of the array. Set left = mid + 1.\n    4.Otherwise, the minimum element must be in the left half of the array. Set right = mid.\n    5.When left == right, we have found the minimum element\n\"\"\"\n#The time complexity is O(log n), and the space complexity is O(1).\n\n#CODE:\n\ndef findMin(nums):\n    left, right = 0, len(nums) - 1\n    while left < right:\n        mid = (left + right) // 2\n        if nums[mid] > nums[right]:\n            left = mid + 1\n        else:\n            right = mid\n    return nums[left]\n\nnums = [3,4,5,1,2]\nprint(findMin(nums))",
      "metadata": {
        "trusted": true
      },
      "execution_count": 10,
      "outputs": [
        {
          "name": "stdout",
          "text": "1\n",
          "output_type": "stream"
        }
      ]
    },
    {
      "cell_type": "code",
      "source": "#SOLUTION: 8\n#Our approach of this problem is to first sort the input array in ascending order. Then, we can iterate through the sorted array and find the corresponding element in the original array by dividing each element by 2. Finally, we can return the original array.\n#The time complexity is O(n log n), and the space complexity is O(n).\n\n#CODE:\n\nimport collections\nfrom typing import List\n\nclass Solution:\n    def findOriginalArray(self, changed: List[int]) -> List[int]:\n        if len(changed) % 2 != 0:\n            return []\n        freq = collections.Counter(changed)\n        res = []\n        for num in sorted(changed):\n            if freq[num] == 0:\n                continue\n            if freq[num * 2] == 0:\n                return []\n            res.append(num)\n            freq[num] -= 1\n            freq[num * 2] -= 1\n        return res\n\nchanged = [1,3,4,2,6,8]\nsolution = Solution()\nprint(solution.findOriginalArray(changed))",
      "metadata": {
        "trusted": true
      },
      "execution_count": 24,
      "outputs": [
        {
          "name": "stdout",
          "text": "[1, 3, 4]\n",
          "output_type": "stream"
        }
      ]
    }
  ]
}