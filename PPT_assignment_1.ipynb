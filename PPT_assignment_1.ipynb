{
  "metadata": {
    "language_info": {
      "codemirror_mode": {
        "name": "python",
        "version": 3
      },
      "file_extension": ".py",
      "mimetype": "text/x-python",
      "name": "python",
      "nbconvert_exporter": "python",
      "pygments_lexer": "ipython3",
      "version": "3.8"
    },
    "kernelspec": {
      "name": "python",
      "display_name": "Python (Pyodide)",
      "language": "python"
    }
  },
  "nbformat_minor": 4,
  "nbformat": 4,
  "cells": [
    {
      "cell_type": "code",
      "source": "#SOLUTION: 1\n#The problem we are referring to is called the Two Sum Problem. Given an array of integers nums and an integer target, we need to return indices of the two numbers such that they add up to target. We may assume that each input would have exactly one solution, and we may not use the same element twice.\n#We can solve this problem using a hash table. The time complexity of this approach is O(n) and space complexity is O(n) as well.\n\n#The solution code for the given problem is as follows:\n\n\ndef twoSum(nums, target):\n    hash_table = {}\n    for i, num in enumerate(nums):\n        diff = target - num\n        if diff in hash_table:\n            return [hash_table[diff], i]\n        hash_table[num] = i\n\nnums = [2, 7, 11, 15]\ntarget = 9\nprint(twoSum(nums, target))",
      "metadata": {
        "trusted": true
      },
      "execution_count": 4,
      "outputs": [
        {
          "name": "stdout",
          "text": "[0, 1]\n",
          "output_type": "stream"
        }
      ]
    },
    {
      "cell_type": "code",
      "source": "#SOLUTION: 2\n#We can solve this problem by using two pointers. One pointer will be used to iterate through the array and the other pointer will be used to keep track of the index where the next non-val element should be placed.\n#The time complexity of this approach is O(n) and space complexity is O(1).\n\n#The solution code for the given problem is as follows:\n\n\ndef removeElement(nums, val):\n    k = 0\n    for i in range(len(nums)):\n        if nums[i] != val:\n            nums[k] = nums[i]\n            k += 1\n    return k\n\nnums = [3, 2, 2, 3]\nval = 3\nk = removeElement(nums, val)\nprint(k)\nprint(nums[:k])",
      "metadata": {
        "trusted": true
      },
      "execution_count": 5,
      "outputs": [
        {
          "name": "stdout",
          "text": "2\n[2, 2]\n",
          "output_type": "stream"
        }
      ]
    },
    {
      "cell_type": "code",
      "source": "#SOLUTION: 3\n#We can solve this problem using binary search.\n#The time complexity of this approach is O(log n) and space complexity is O(1).\n\n#The solution code for the given problem is as follows:\n\n\ndef searchInsert(nums, target):\n    left = 0\n    right = len(nums) - 1\n    while left <= right:\n        mid = (left + right) // 2\n        if nums[mid] == target:\n            return mid\n        elif nums[mid] < target:\n            left = mid + 1\n        else:\n            right = mid - 1\n    return left\n\nnums = [1, 3, 5, 6]\ntarget = 5\nprint(searchInsert(nums, target))",
      "metadata": {
        "trusted": true
      },
      "execution_count": 6,
      "outputs": [
        {
          "name": "stdout",
          "text": "2\n",
          "output_type": "stream"
        }
      ]
    },
    {
      "cell_type": "code",
      "source": "#SOLUTION: 4\n#We can solve this problem by iterating through the digits from right to left and adding 1 to the last digit. If the last digit is 9, we set it to 0 and continue iterating. If we reach the leftmost digit and it is 9, we set it to 0 and add 1 to the beginning of the array.\n#The time complexity of this approach is O(n) and space complexity is O(1).\n\n#The solution code for the given problem is as follows:\n\n\ndef plusOne(digits):\n    n = len(digits)\n    for i in range(n - 1, -1, -1):\n        if digits[i] < 9:\n            digits[i] += 1\n            return digits\n        else:\n            digits[i] = 0\n    return [1] + [0] * n\n\ndigits = [1, 2, 3]\nprint(plusOne(digits))",
      "metadata": {
        "trusted": true
      },
      "execution_count": 7,
      "outputs": [
        {
          "name": "stdout",
          "text": "[1, 2, 4]\n",
          "output_type": "stream"
        }
      ]
    },
    {
      "cell_type": "code",
      "source": "#SOLUTION: 5\n#To merge two sorted arrays in non-decreasing order, we can create another array with size equal to the sum of the two sorted arrays. Then traverse the two stored arrays simultaneously. While traversing, we can select the smaller of current elements of the two arrays and copy it at the next position in the new array.\n#The time complexity of this approach is O(m+n) and space complexity is O(1).\n\n#The solution code for the given problem is as follows:\n\n\ndef merge(nums1, m, nums2, n):\n    i = m - 1\n    j = n - 1\n    k = m + n - 1\n\n    while i >= 0 and j >= 0:\n        if nums1[i] > nums2[j]:\n            nums1[k] = nums1[i]\n            i -= 1\n        else:\n            nums1[k] = nums2[j]\n            j -= 1\n        k -= 1\n\n    while j >= 0:\n        nums1[k] = nums2[j]\n        j -= 1\n        k -= 1\nnums1 = [1,2,3,0,0,0]\nm = 3\nnums2 = [2,5,6]\nn = 3\n\nmerge(nums1, m, nums2, n)\n\nprint(nums1)",
      "metadata": {
        "trusted": true
      },
      "execution_count": 9,
      "outputs": [
        {
          "name": "stdout",
          "text": "[1, 2, 2, 3, 5, 6]\n",
          "output_type": "stream"
        }
      ]
    },
    {
      "cell_type": "code",
      "source": "#SOLUTION: 6\n#To check if any value appears at least twice in the array in Python, we can use the set() function.\n#The time complexity of this approach is O(n) and space complexity is O(n).\n\n#The solution code for the given problem is as follows:\n\n\ndef containsDuplicate(nums):\n    return len(nums) != len(set(nums))\nnums = [1,2,3,1]\n\nprint(containsDuplicate(nums))",
      "metadata": {
        "trusted": true
      },
      "execution_count": 10,
      "outputs": [
        {
          "name": "stdout",
          "text": "True\n",
          "output_type": "stream"
        }
      ]
    },
    {
      "cell_type": "code",
      "source": "#SOLUTION: 7\n#The time complexity of this approach is O(n) and space complexity is O(1).\n\n#The solution code for the given problem is as follows:\n\n\ndef moveZeroes(nums):\n    i = 0\n    j = 0\n\n    while j < len(nums):\n        if nums[j] != 0:\n            nums[i], nums[j] = nums[j], nums[i]\n            i += 1\n        j += 1\nnums = [0,1,0,3,12]\n\nmoveZeroes(nums)\n\nprint(nums)",
      "metadata": {
        "trusted": true
      },
      "execution_count": 11,
      "outputs": [
        {
          "name": "stdout",
          "text": "[1, 3, 12, 0, 0]\n",
          "output_type": "stream"
        }
      ]
    },
    {
      "cell_type": "code",
      "source": "#SOLUTION: 8\n#We can solve this problem by using hashing method.\n#The time complexity of this approach is O(n) and space complexity is O(1).\n\n#The solution code for the given problem is as follows:\n\n\ndef findErrorNums(nums):\n    n = len(nums)\n    s = sum(nums)\n    d = sum(set(nums))\n    return [s - d, n*(n+1)//2 - d]\n\nnums = [1,2,2,4]\n\nprint(findErrorNums(nums))",
      "metadata": {
        "trusted": true
      },
      "execution_count": 12,
      "outputs": [
        {
          "name": "stdout",
          "text": "[2, 3]\n",
          "output_type": "stream"
        }
      ]
    }
  ]
}